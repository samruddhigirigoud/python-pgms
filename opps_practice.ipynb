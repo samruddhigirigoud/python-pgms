{
  "nbformat": 4,
  "nbformat_minor": 0,
  "metadata": {
    "colab": {
      "provenance": []
    },
    "kernelspec": {
      "name": "python3",
      "display_name": "Python 3"
    },
    "language_info": {
      "name": "python"
    }
  },
  "cells": [
    {
      "cell_type": "code",
      "execution_count": null,
      "metadata": {
        "colab": {
          "base_uri": "https://localhost:8080/"
        },
        "id": "GHkl11cur2_W",
        "outputId": "cefd79db-fac7-496c-da45-5394a367754b"
      },
      "outputs": [
        {
          "output_type": "stream",
          "name": "stdout",
          "text": [
            "<__main__.Student object at 0x7845402cc3a0>\n",
            "this is constructor\n",
            "<__main__.Student object at 0x7845402cc3a0>\n"
          ]
        }
      ],
      "source": [
        "\n",
        "class Student:\n",
        "  name = \"sandeep bilagoji\"\n",
        "  def __init__(self):\n",
        "    print(self)\n",
        "    print(\"this is constructor\")\n",
        "s1 = Student()\n",
        "print(s1)\n",
        "\n",
        "\n"
      ]
    },
    {
      "cell_type": "code",
      "source": [
        "class car:\n",
        "  color = \"blue\"\n",
        "  brand = \"audi\"\n",
        "car1 = car()\n",
        "print(car1.color)\n",
        "print(car1.brand)\n",
        "\n",
        "car2 = car()\n",
        "print(car2.color)"
      ],
      "metadata": {
        "colab": {
          "base_uri": "https://localhost:8080/"
        },
        "id": "F_SbN0pHt786",
        "outputId": "2dc3be28-a0c1-4131-bad6-83c1a5c3ed35"
      },
      "execution_count": null,
      "outputs": [
        {
          "output_type": "stream",
          "name": "stdout",
          "text": [
            "blue\n",
            "audi\n",
            "blue\n"
          ]
        }
      ]
    },
    {
      "cell_type": "code",
      "source": [
        "class Student:\n",
        "  college_name = \"alliance\"\n",
        "  name = \"anonymous\"\n",
        "  def __init__(self, name, age,marks):\n",
        "    self.fullname = name\n",
        "    self.age = age\n",
        "    self.marks = marks\n",
        "s1 = Student(\"sandeep\", 26,97)\n",
        "print(s1.fullname)\n",
        "print(s1.age)\n",
        "print(s1.marks)\n",
        "print(s1.college_name)\n",
        "\n",
        "s2 = Student(\"arjun\", 26,97)\n",
        "print(s2.fullname)\n",
        "print(s2.age)\n",
        "print(s2.marks)\n",
        "print(s2.college_name)\n"
      ],
      "metadata": {
        "colab": {
          "base_uri": "https://localhost:8080/"
        },
        "id": "jBKB6oBiu7rb",
        "outputId": "afc711a5-185f-42e2-ca0f-cb89ae070508"
      },
      "execution_count": null,
      "outputs": [
        {
          "output_type": "stream",
          "name": "stdout",
          "text": [
            "sandeep\n",
            "26\n",
            "97\n",
            "alliance\n",
            "arjun\n",
            "26\n",
            "97\n",
            "alliance\n"
          ]
        }
      ]
    },
    {
      "cell_type": "code",
      "source": [
        "\n",
        "class Student:\n",
        "  college_name = \"alliance\"\n",
        "  name = \"anonymous\"\n",
        "  def __init__(self, name, age,marks):\n",
        "    self.fullname = name\n",
        "    self.age = age\n",
        "    self.marks = marks\n",
        "\n",
        "  def welcome(self):\n",
        "    print(\"welcome to college\",self.fullname)\n",
        "  def getmarks(self):\n",
        "    return self.marks\n",
        "s1 = Student(\"sandeep\", 26,97)\n",
        "s1.welcome()\n",
        "s1.getmarks()"
      ],
      "metadata": {
        "colab": {
          "base_uri": "https://localhost:8080/"
        },
        "id": "BGL5_QCsxG91",
        "outputId": "e5d5fdd1-9da0-4b96-ab3c-dc73c8d2e3ee"
      },
      "execution_count": null,
      "outputs": [
        {
          "output_type": "stream",
          "name": "stdout",
          "text": [
            "welcome to college sandeep\n"
          ]
        },
        {
          "output_type": "execute_result",
          "data": {
            "text/plain": [
              "97"
            ]
          },
          "metadata": {},
          "execution_count": 30
        }
      ]
    },
    {
      "cell_type": "code",
      "source": [
        "class Student:\n",
        "  def __init__(self,name,eng,math,sci):\n",
        "    self.name = name\n",
        "    self.eng = eng\n",
        "    self.math = math\n",
        "    self.sci = sci\n",
        "s1 = Student(\"sandeep\",97,98,99)\n",
        "q = (s1.eng + s1.math + s1.sci)/3\n",
        "print(q)"
      ],
      "metadata": {
        "colab": {
          "base_uri": "https://localhost:8080/"
        },
        "id": "GizhWj5x1YCM",
        "outputId": "df0e77d2-75c2-4acd-daf0-a7478228a9f7"
      },
      "execution_count": null,
      "outputs": [
        {
          "output_type": "stream",
          "name": "stdout",
          "text": [
            "98.0\n"
          ]
        }
      ]
    },
    {
      "cell_type": "code",
      "source": [
        "class Student:\n",
        "  def __init__(self,name,marks):\n",
        "    self.name = name\n",
        "    self.marks = marks\n",
        "  @staticmethod\n",
        "  def hello():\n",
        "    print(\"hello world\")\n",
        "\n",
        "  def get_avg(self):\n",
        "    sum = 0\n",
        "    for mark in self.marks:\n",
        "      sum += mark\n",
        "    print(\"hi\",self.name,\"your avg score is\",sum/len(self.marks))\n",
        "s1 = Student(\"sandeep\",[97,98,99])\n",
        "s1.get_avg()\n",
        "s1.hello()\n",
        "s1.name = \"arjun\"\n",
        "s1.get_avg()"
      ],
      "metadata": {
        "colab": {
          "base_uri": "https://localhost:8080/"
        },
        "id": "ULgzefQf23TL",
        "outputId": "94b58cc8-0a24-4baf-989f-a62fa352aafb"
      },
      "execution_count": null,
      "outputs": [
        {
          "output_type": "stream",
          "name": "stdout",
          "text": [
            "hi sandeep your avg score is 98.0\n",
            "hello world\n",
            "hi arjun your avg score is 98.0\n"
          ]
        }
      ]
    },
    {
      "cell_type": "code",
      "source": [
        "class car:\n",
        "  def __init__(self):\n",
        "    self.acc = False\n",
        "    self.brk = False\n",
        "    self.clutch =False\n",
        "\n",
        "  def start(self):\n",
        "    self.acc = True\n",
        "    print(\"car started\")\n",
        "  def stop(self):\n",
        "    self.acc = False\n",
        "    print(\"car stopped\")\n",
        "car1 = car()\n",
        "car1.start()\n",
        "car1.stop()"
      ],
      "metadata": {
        "colab": {
          "base_uri": "https://localhost:8080/"
        },
        "id": "wJ-VVOTC4xaA",
        "outputId": "4daa3ffa-f3de-479b-b5c1-1dd7ca27df60"
      },
      "execution_count": null,
      "outputs": [
        {
          "output_type": "stream",
          "name": "stdout",
          "text": [
            "car started\n",
            "car stopped\n"
          ]
        }
      ]
    },
    {
      "cell_type": "code",
      "source": [
        "class Acc:\n",
        "  def __init__(self,balance,acc):\n",
        "    self.balance = balance\n",
        "    self.acc = acc\n",
        "\n",
        "  def debit(self,amount):\n",
        "    self.balance -= amount\n",
        "    print(\"Rs\", amount,\"was debited from your account\", self.balance)\n",
        "\n",
        "  def credit(self,amount):\n",
        "    self.balance += amount\n",
        "    print(\"Rs\", amount,\"was credited to your account\", self.balance)\n",
        "\n",
        "  def check_balance(self):\n",
        "    print(\"your current balance is Rs\", self.balance)\n",
        "\n",
        "\n",
        "acc1 = Acc(100000, 2500000)\n",
        "print(acc1.balance)\n",
        "print(acc1.acc)\n",
        "acc1.debit(8000)\n",
        "acc1.credit(1000)\n",
        "acc1.check_balance()"
      ],
      "metadata": {
        "colab": {
          "base_uri": "https://localhost:8080/"
        },
        "id": "TVs33X5D89df",
        "outputId": "9ec1acb9-0a24-4eb7-9087-0a93d4030080"
      },
      "execution_count": null,
      "outputs": [
        {
          "output_type": "stream",
          "name": "stdout",
          "text": [
            "100000\n",
            "2500000\n",
            "Rs 8000 was debited from your account 92000\n",
            "Rs 1000 was credited to your account 93000\n",
            "your current balance is Rs 93000\n"
          ]
        }
      ]
    },
    {
      "cell_type": "code",
      "source": [
        "class student:\n",
        "  def __init__(self, name):\n",
        "    self.name = name\n",
        "s1 = student(\"sandeep\")\n",
        "del s1.name\n",
        "print(s1.name)"
      ],
      "metadata": {
        "id": "aYwc2R8l_FDs",
        "colab": {
          "base_uri": "https://localhost:8080/",
          "height": 176
        },
        "outputId": "43677813-767d-413b-bae6-9c122e61421f"
      },
      "execution_count": null,
      "outputs": [
        {
          "output_type": "error",
          "ename": "AttributeError",
          "evalue": "'student' object has no attribute 'name'",
          "traceback": [
            "\u001b[0;31m---------------------------------------------------------------------------\u001b[0m",
            "\u001b[0;31mAttributeError\u001b[0m                            Traceback (most recent call last)",
            "\u001b[0;32m<ipython-input-2-20bdfc889373>\u001b[0m in \u001b[0;36m<cell line: 6>\u001b[0;34m()\u001b[0m\n\u001b[1;32m      4\u001b[0m \u001b[0ms1\u001b[0m \u001b[0;34m=\u001b[0m \u001b[0mstudent\u001b[0m\u001b[0;34m(\u001b[0m\u001b[0;34m\"sandeep\"\u001b[0m\u001b[0;34m)\u001b[0m\u001b[0;34m\u001b[0m\u001b[0;34m\u001b[0m\u001b[0m\n\u001b[1;32m      5\u001b[0m \u001b[0;32mdel\u001b[0m \u001b[0ms1\u001b[0m\u001b[0;34m.\u001b[0m\u001b[0mname\u001b[0m\u001b[0;34m\u001b[0m\u001b[0;34m\u001b[0m\u001b[0m\n\u001b[0;32m----> 6\u001b[0;31m \u001b[0mprint\u001b[0m\u001b[0;34m(\u001b[0m\u001b[0ms1\u001b[0m\u001b[0;34m.\u001b[0m\u001b[0mname\u001b[0m\u001b[0;34m)\u001b[0m\u001b[0;34m\u001b[0m\u001b[0;34m\u001b[0m\u001b[0m\n\u001b[0m",
            "\u001b[0;31mAttributeError\u001b[0m: 'student' object has no attribute 'name'"
          ]
        }
      ]
    },
    {
      "cell_type": "code",
      "source": [
        "class account:\n",
        "  def __init__(self,acc_no,acc_pass):\n",
        "    self.acc_no = acc_no\n",
        "    self._acc_pass = acc_pass\n",
        "  def reset_pass(self):\n",
        "    print(self._acc_pass)\n",
        "acc1 = account(2500000,1234)\n",
        "print(acc1.acc_no)\n",
        "print(acc1.reset_pass())"
      ],
      "metadata": {
        "colab": {
          "base_uri": "https://localhost:8080/"
        },
        "id": "TBsuGRtAGODT",
        "outputId": "45675843-0610-4838-a78a-3ba3e6b156e5"
      },
      "execution_count": null,
      "outputs": [
        {
          "output_type": "stream",
          "name": "stdout",
          "text": [
            "2500000\n",
            "1234\n",
            "None\n"
          ]
        }
      ]
    },
    {
      "cell_type": "code",
      "source": [
        "class person:\n",
        "  __name = \"anonymous\"\n",
        "  def hello(self):\n",
        "    print(\"hello world\")\n",
        "\n",
        "p1 = person()\n",
        "print(p1.hello)"
      ],
      "metadata": {
        "colab": {
          "base_uri": "https://localhost:8080/"
        },
        "id": "KVR9H_sDG08j",
        "outputId": "75ebc06c-a4d8-42e5-efc3-4bf8301db80f"
      },
      "execution_count": null,
      "outputs": [
        {
          "output_type": "stream",
          "name": "stdout",
          "text": [
            "<bound method person.hello of <__main__.person object at 0x7b1efdca6230>>\n"
          ]
        }
      ]
    },
    {
      "cell_type": "code",
      "source": [
        "class person:\n",
        "  __name = \"anonymous\"\n",
        "  def __hello(self):\n",
        "    print(\"hello world\")\n",
        "  def welcome(self):\n",
        "    slef.__hello()\n",
        "\n",
        "\n",
        "p1 = person()\n",
        "print(p1.welcome)"
      ],
      "metadata": {
        "colab": {
          "base_uri": "https://localhost:8080/"
        },
        "id": "4IpWWAMJIOmu",
        "outputId": "3dd8bbce-c681-4d68-f73d-211bc7a14631"
      },
      "execution_count": null,
      "outputs": [
        {
          "output_type": "stream",
          "name": "stdout",
          "text": [
            "<bound method person.welcome of <__main__.person object at 0x7b1efdd98c10>>\n"
          ]
        }
      ]
    },
    {
      "cell_type": "code",
      "source": [
        "class car:\n",
        "  color = \"black\"\n",
        "  @staticmethod\n",
        "  def start():\n",
        "    print(\"car started\")\n",
        "  @staticmethod\n",
        "  def stop():\n",
        "    print(\"car stopped\")\n",
        "class Toyotacar(car):\n",
        "  def __init__(self, name):\n",
        "    self.name = name\n",
        "car1 = Toyotacar(\"fortuner\")\n",
        "car2 = Toyotacar(\"prius\")\n",
        "print(car1.start())\n",
        "print(car1.color)"
      ],
      "metadata": {
        "colab": {
          "base_uri": "https://localhost:8080/"
        },
        "id": "jNWtTVwQJOUW",
        "outputId": "dc405169-a657-4b75-ab57-cb69e83fbba9"
      },
      "execution_count": null,
      "outputs": [
        {
          "output_type": "stream",
          "name": "stdout",
          "text": [
            "car started\n",
            "None\n",
            "black\n"
          ]
        }
      ]
    },
    {
      "cell_type": "code",
      "source": [
        "class car:\n",
        "  @staticmethod\n",
        "  def start():\n",
        "    print(\"car started\")\n",
        "  @staticmethod\n",
        "  def stop():\n",
        "    print(\"car stopped\")\n",
        "class Toyotacar(car):\n",
        "  def __init__(self, brand):\n",
        "    self.brand = brand\n",
        "class fortuner(Toyotacar):\n",
        "  def __int__(self, type):\n",
        "    self.type = type\n",
        "\n",
        "car1 = fortuner(\"fortuner\")\n",
        "car1.start()"
      ],
      "metadata": {
        "colab": {
          "base_uri": "https://localhost:8080/"
        },
        "id": "Fiz9nEMtKcjb",
        "outputId": "714b2eca-9130-4e28-a5ca-27e19dfc9051"
      },
      "execution_count": null,
      "outputs": [
        {
          "output_type": "stream",
          "name": "stdout",
          "text": [
            "car started\n"
          ]
        }
      ]
    },
    {
      "cell_type": "code",
      "source": [
        "class A:\n",
        "  varA =\"welcome to class A\"\n",
        "class B:\n",
        "  varB = \"welcome to class B\"\n",
        "class c (A,B):\n",
        "  varC = \"welcome to class C\"\n",
        "c1 = c()\n",
        "print(c1.varA)\n",
        "print(c1.varB)\n",
        "print(c1.varC)\n"
      ],
      "metadata": {
        "colab": {
          "base_uri": "https://localhost:8080/"
        },
        "id": "6ZSagUtnMraF",
        "outputId": "23589b0f-bbaf-4a05-fa07-c3363cd2830d"
      },
      "execution_count": null,
      "outputs": [
        {
          "output_type": "stream",
          "name": "stdout",
          "text": [
            "welcome to class A\n",
            "welcome to class B\n",
            "welcome to class C\n"
          ]
        }
      ]
    },
    {
      "cell_type": "code",
      "source": [
        "class car:\n",
        "  def __init__(self, type):\n",
        "    self.type = type\n",
        "  @staticmethod\n",
        "  def start():\n",
        "    print(\"car started\")\n",
        "  @staticmethod\n",
        "  def stop():\n",
        "    print(\"car stopped\")\n",
        "class Toyotacar(car):\n",
        "  def __init__(self, name, type):\n",
        "    self.name = name\n",
        "    super().__init__(type)\n",
        "    super().start()\n",
        "\n",
        "car1 = Toyotacar(\"fortuner\",\"elelctric\")\n",
        "print(car1.type)\n",
        "print(car1.start())"
      ],
      "metadata": {
        "colab": {
          "base_uri": "https://localhost:8080/"
        },
        "id": "BkKE0TM6OCC_",
        "outputId": "4f98b885-c7d9-4588-daae-5d4a48e746c8"
      },
      "execution_count": null,
      "outputs": [
        {
          "output_type": "stream",
          "name": "stdout",
          "text": [
            "car started\n",
            "elelctric\n",
            "car started\n",
            "None\n"
          ]
        }
      ]
    },
    {
      "cell_type": "code",
      "source": [
        "class person:\n",
        "  name = \"anonymous\"\n",
        "  def changeName(self,name):\n",
        "    person.name = name\n",
        "p1 = person()\n",
        "p1.changeName(\"sandeep\")\n",
        "print(p1.name)\n",
        "print(person.name)\n"
      ],
      "metadata": {
        "colab": {
          "base_uri": "https://localhost:8080/"
        },
        "id": "vjLAxelHOj9u",
        "outputId": "f624c41f-f3b3-40dd-fce7-97d84b3e9f3d"
      },
      "execution_count": null,
      "outputs": [
        {
          "output_type": "stream",
          "name": "stdout",
          "text": [
            "sandeep\n",
            "sandeep\n"
          ]
        }
      ]
    },
    {
      "cell_type": "code",
      "source": [
        "class person:\n",
        "  name = \"anonymous\"\n",
        "  # def changeName(self,name):\n",
        "  #   self.__class__.name = \"sanny\"\n",
        "\n",
        "  @classmethod\n",
        "  def changeName(cls,name):\n",
        "    cls.name = name\n",
        "p1 = person()\n",
        "p1.changeName(\"sandeep\")\n",
        "print(p1.name)\n",
        "print(person.name)"
      ],
      "metadata": {
        "colab": {
          "base_uri": "https://localhost:8080/"
        },
        "id": "Sok9Z6MGRDli",
        "outputId": "152b6c90-3f4f-4919-b587-830a93ef8270"
      },
      "execution_count": null,
      "outputs": [
        {
          "output_type": "stream",
          "name": "stdout",
          "text": [
            "sandeep\n",
            "sandeep\n"
          ]
        }
      ]
    },
    {
      "cell_type": "code",
      "source": [
        "class student:\n",
        "    def __init__(self, phy, chem, math):\n",
        "      self.phy = phy\n",
        "      self.chem = chem\n",
        "      self.math = math\n",
        "\n",
        "    # def claculate_percentage(self):\n",
        "    #   print((self.phy+self.chem+self.math)/3)\n",
        "\n",
        "    @property\n",
        "    def percentage(self):\n",
        "      return (self.phy+self.chem+self.math)/3\n",
        "str1 = student(98, 97, 99)\n",
        "print(str1.percentage)\n",
        "str1.phy =86\n",
        "print(str1.percentage)"
      ],
      "metadata": {
        "colab": {
          "base_uri": "https://localhost:8080/"
        },
        "id": "SgHYCVbCR_DI",
        "outputId": "1492c9bd-6445-4659-baee-5e01992275c9"
      },
      "execution_count": null,
      "outputs": [
        {
          "output_type": "stream",
          "name": "stdout",
          "text": [
            "98.0\n",
            "94.0\n"
          ]
        }
      ]
    },
    {
      "cell_type": "code",
      "source": [
        "print(1+2)"
      ],
      "metadata": {
        "colab": {
          "base_uri": "https://localhost:8080/"
        },
        "id": "nj-xSGVVT339",
        "outputId": "44355d18-a6f0-4a33-b7e7-b00881283189"
      },
      "execution_count": null,
      "outputs": [
        {
          "output_type": "stream",
          "name": "stdout",
          "text": [
            "3\n"
          ]
        }
      ]
    },
    {
      "cell_type": "code",
      "source": [
        "class complex:\n",
        "  def __init__(self, real, imag):\n",
        "    self.real = real\n",
        "    self.imag = imag\n",
        "  def showNUmber(self):\n",
        "    print(self.real,\"i +\", self.imag,\"j\")\n",
        "\n",
        "  def __add__(self,num):\n",
        "    newreal = self.real + num.real\n",
        "    newimag = self.imag + num.imag\n",
        "    return complex(newreal, newimag)\n",
        "\n",
        "  def __sub__(self,num):\n",
        "    newreal = self.real - num.real\n",
        "    newimag = self.imag - num.imag\n",
        "    return complex(newreal, newimag)\n",
        "\n",
        "num1 = complex(1,2)\n",
        "num1.showNUmber()\n",
        "\n",
        "\n",
        "num2 = complex(3,4)\n",
        "num2.showNUmber()\n",
        "\n",
        "num3 = num1+num2\n",
        "num3.showNUmber()\n",
        "\n",
        "num4 = num1-num2\n",
        "num4.showNUmber()"
      ],
      "metadata": {
        "colab": {
          "base_uri": "https://localhost:8080/"
        },
        "id": "nwvKlhKtWBiH",
        "outputId": "643e8e21-2998-4cee-d203-5b6cffcf7a37"
      },
      "execution_count": null,
      "outputs": [
        {
          "output_type": "stream",
          "name": "stdout",
          "text": [
            "1 i + 2 j\n",
            "3 i + 4 j\n",
            "4 i + 6 j\n",
            "-2 i + -2 j\n"
          ]
        }
      ]
    },
    {
      "cell_type": "code",
      "source": [
        "print(len(\"Hello\"))  # Works with a string\n",
        "print(len([1, 2, 3, 4]))  # Works with a list\n"
      ],
      "metadata": {
        "colab": {
          "base_uri": "https://localhost:8080/"
        },
        "id": "JO2Lni8sYRLP",
        "outputId": "2b005574-43c6-4c5d-8e49-4d05b0f4fff7"
      },
      "execution_count": null,
      "outputs": [
        {
          "output_type": "stream",
          "name": "stdout",
          "text": [
            "5\n",
            "4\n"
          ]
        }
      ]
    },
    {
      "cell_type": "code",
      "source": [
        "class circle:\n",
        "  def __init__(self, radius):\n",
        "    self.radius = radius\n",
        "\n",
        "  def area(self):\n",
        "    return 3.14*self.radius** 2\n",
        "  def permeter(self):\n",
        "    return 2*3.14*self.radius\n",
        "c1 = circle(21)\n",
        "print(c1.area())\n",
        "print(c1.permeter())"
      ],
      "metadata": {
        "colab": {
          "base_uri": "https://localhost:8080/"
        },
        "id": "mFOo8MDNcLxw",
        "outputId": "e40a09f5-dedf-4f84-8b77-2a50df2fe962"
      },
      "execution_count": null,
      "outputs": [
        {
          "output_type": "stream",
          "name": "stdout",
          "text": [
            "1384.74\n",
            "131.88\n"
          ]
        }
      ]
    },
    {
      "cell_type": "code",
      "source": [
        "class employee:\n",
        "  def __init__(self, role, department, salary):\n",
        "    self.role = role\n",
        "    self.department = department\n",
        "    self.salary = salary\n",
        "\n",
        "  def showDetails(self):\n",
        "    print(\"role:\", self.role)\n",
        "    print(\"department:\", self.department)\n",
        "    print(\"salary:\", self.salary)\n",
        "\n",
        "  class Engineer(employee):\n",
        "    def __init__(self, name,age):\n",
        "      self.name = name\n",
        "      self.age = age\n",
        "      super().__init__(\"engi\", \"it\", \"900000\")\n",
        "\n",
        "    def showDetails(self):\n",
        "      print(\"name:\", self.name)\n",
        "      print(\"age:\", self.age)\n",
        "      super().showDetails()\n",
        "\n",
        "engg1 = Engineer(\"sandeep\", 26)\n",
        "engg1.showDetails()"
      ],
      "metadata": {
        "colab": {
          "base_uri": "https://localhost:8080/",
          "height": 193
        },
        "id": "FjyGNNvJcirE",
        "outputId": "0abf5085-ca83-4f73-c639-7c97eb345f9a"
      },
      "execution_count": null,
      "outputs": [
        {
          "output_type": "error",
          "ename": "NameError",
          "evalue": "name 'Engineer' is not defined",
          "traceback": [
            "\u001b[0;31m---------------------------------------------------------------------------\u001b[0m",
            "\u001b[0;31mNameError\u001b[0m                                 Traceback (most recent call last)",
            "\u001b[0;32m<ipython-input-76-7f475de82672>\u001b[0m in \u001b[0;36m<cell line: 23>\u001b[0;34m()\u001b[0m\n\u001b[1;32m     21\u001b[0m       \u001b[0msuper\u001b[0m\u001b[0;34m(\u001b[0m\u001b[0;34m)\u001b[0m\u001b[0;34m.\u001b[0m\u001b[0mshowDetails\u001b[0m\u001b[0;34m(\u001b[0m\u001b[0;34m)\u001b[0m\u001b[0;34m\u001b[0m\u001b[0;34m\u001b[0m\u001b[0m\n\u001b[1;32m     22\u001b[0m \u001b[0;34m\u001b[0m\u001b[0m\n\u001b[0;32m---> 23\u001b[0;31m \u001b[0mengg1\u001b[0m \u001b[0;34m=\u001b[0m \u001b[0mEngineer\u001b[0m\u001b[0;34m(\u001b[0m\u001b[0;34m\"sandeep\"\u001b[0m\u001b[0;34m,\u001b[0m \u001b[0;36m26\u001b[0m\u001b[0;34m)\u001b[0m\u001b[0;34m\u001b[0m\u001b[0;34m\u001b[0m\u001b[0m\n\u001b[0m\u001b[1;32m     24\u001b[0m \u001b[0mengg1\u001b[0m\u001b[0;34m.\u001b[0m\u001b[0mshowDetails\u001b[0m\u001b[0;34m(\u001b[0m\u001b[0;34m)\u001b[0m\u001b[0;34m\u001b[0m\u001b[0;34m\u001b[0m\u001b[0m\n",
            "\u001b[0;31mNameError\u001b[0m: name 'Engineer' is not defined"
          ]
        }
      ]
    },
    {
      "cell_type": "code",
      "source": [
        "class order:\n",
        "  def __init__(self, item, price):\n",
        "    self.item = item\n",
        "    self.price = price\n",
        "  def __gt__(self, other):\n",
        "    return self.price > other.price\n",
        "\n",
        "odr1 = order(\"pen\", 10)\n",
        "ord2 = order(\"pencil\", 5)\n",
        "\n",
        "print(ord1 > ord2)\n",
        "\n"
      ],
      "metadata": {
        "colab": {
          "base_uri": "https://localhost:8080/",
          "height": 176
        },
        "id": "KD-SK-BreqtI",
        "outputId": "625916b6-aa1a-48c7-bb59-5dcac6c262c8"
      },
      "execution_count": null,
      "outputs": [
        {
          "output_type": "error",
          "ename": "NameError",
          "evalue": "name 'ord1' is not defined",
          "traceback": [
            "\u001b[0;31m---------------------------------------------------------------------------\u001b[0m",
            "\u001b[0;31mNameError\u001b[0m                                 Traceback (most recent call last)",
            "\u001b[0;32m<ipython-input-79-9b75c8262f8c>\u001b[0m in \u001b[0;36m<cell line: 11>\u001b[0;34m()\u001b[0m\n\u001b[1;32m      9\u001b[0m \u001b[0mord2\u001b[0m \u001b[0;34m=\u001b[0m \u001b[0morder\u001b[0m\u001b[0;34m(\u001b[0m\u001b[0;34m\"pencil\"\u001b[0m\u001b[0;34m,\u001b[0m \u001b[0;36m5\u001b[0m\u001b[0;34m)\u001b[0m\u001b[0;34m\u001b[0m\u001b[0;34m\u001b[0m\u001b[0m\n\u001b[1;32m     10\u001b[0m \u001b[0;34m\u001b[0m\u001b[0m\n\u001b[0;32m---> 11\u001b[0;31m \u001b[0mprint\u001b[0m\u001b[0;34m(\u001b[0m\u001b[0mord1\u001b[0m \u001b[0;34m>\u001b[0m \u001b[0mord2\u001b[0m\u001b[0;34m)\u001b[0m\u001b[0;34m\u001b[0m\u001b[0;34m\u001b[0m\u001b[0m\n\u001b[0m",
            "\u001b[0;31mNameError\u001b[0m: name 'ord1' is not defined"
          ]
        }
      ]
    },
    {
      "cell_type": "code",
      "source": [
        "class car:\n",
        "  def speed(self):\n",
        "    print(\"100km\")\n",
        "class audi(car):\n",
        "  def engine(self):\n",
        "    print(\"engine is power full\")\n",
        "c1 = audi()\n",
        "c1.speed()\n",
        "c1.engine()"
      ],
      "metadata": {
        "id": "YChUWH9_gRxC",
        "colab": {
          "base_uri": "https://localhost:8080/"
        },
        "outputId": "6fa78f52-ccff-49e1-fd22-bac08222f774"
      },
      "execution_count": null,
      "outputs": [
        {
          "output_type": "stream",
          "name": "stdout",
          "text": [
            "100km\n",
            "engine is power full\n"
          ]
        }
      ]
    },
    {
      "cell_type": "code",
      "source": [
        "class animal:\n",
        "  def sound(self):\n",
        "    print(\"some generic sound\")\n",
        "class dog(animal):\n",
        "  def sound(self):\n",
        "    print(\"bark\")\n",
        "class cat(animal):\n",
        "  def sound(self):\n",
        "    print(\"meow\")\n",
        "d1 = dog()\n",
        "c1 = cat()\n",
        "d1.sound()\n",
        "c1.sound()"
      ],
      "metadata": {
        "colab": {
          "base_uri": "https://localhost:8080/"
        },
        "id": "8fIY2LRAkxuK",
        "outputId": "b4c8b41e-d187-457b-bfae-2481d7212788"
      },
      "execution_count": null,
      "outputs": [
        {
          "output_type": "stream",
          "name": "stdout",
          "text": [
            "bark\n",
            "meow\n"
          ]
        }
      ]
    },
    {
      "cell_type": "code",
      "source": [
        "class calculator:\n",
        "  def add(self,num1,num2):\n",
        "    return num1+num2\n",
        "  def sub(self,num1,num2):\n",
        "    return num1-num2\n",
        "c1 = calculator()\n",
        "print(c1.add(2,3))\n",
        "print(c1.sub(2,3))\n"
      ],
      "metadata": {
        "colab": {
          "base_uri": "https://localhost:8080/"
        },
        "id": "Pll0H-N-oKfM",
        "outputId": "4a5545a7-5943-4af3-ecab-92a803032198"
      },
      "execution_count": null,
      "outputs": [
        {
          "output_type": "stream",
          "name": "stdout",
          "text": [
            "5\n",
            "-1\n"
          ]
        }
      ]
    },
    {
      "cell_type": "code",
      "source": [
        "class calculator:\n",
        "  def add(self,num1,num2):\n",
        "    self.num1 = num1\n",
        "    self.num2 = num2\n",
        "    return self.num1+self.num2\n",
        "  def sub(self,num1,num2):\n",
        "    return num1-num2\n",
        "class AdvancedCalculator(calculator):\n",
        "  def mul(self,num1,num2):\n",
        "    return num1*num2\n",
        "  def div(self,num1,num2):\n",
        "    return num1//num2\n",
        "c1 = AdvancedCalculator()\n",
        "num1 = int(input(\"enter first number\"))\n",
        "num2 = int(input(\"enter second number\"))\n",
        "print(c1.add(num1,num2))\n",
        "print(c1.sub(num1,num2))\n",
        "print(c1.mul(num1,num2))\n",
        "print(c1.div(num1,num2))"
      ],
      "metadata": {
        "id": "Hq_qOtWZrYhD",
        "colab": {
          "base_uri": "https://localhost:8080/"
        },
        "outputId": "dc48d31b-25d8-4e34-b03a-cbf0e84d6047"
      },
      "execution_count": null,
      "outputs": [
        {
          "output_type": "stream",
          "name": "stdout",
          "text": [
            "enter first number14\n",
            "enter second number23\n",
            "37\n",
            "-9\n",
            "322\n",
            "0\n"
          ]
        }
      ]
    },
    {
      "cell_type": "code",
      "source": [
        "class normal_room:\n",
        "  def calculates(self,no_rooms,days):\n",
        "    self.no_rooms = no_rooms\n",
        "    self.days = days\n",
        "    self.rent = rent\n",
        "    if self.days == 1:\n",
        "      print( 300*self.days)\n",
        "    elif self.days > 1 and self.days < 4:\n",
        "      print(250*self.days)\n",
        "    else:\n",
        "       print(200*self.days)\n",
        "class AC_room:\n",
        "  def AC_calculates(self,no_rooms,days):\n",
        "    self.no_rooms = no_rooms\n",
        "    self.days = days\n",
        "     if self.days == 1:\n",
        "      print(200*)\n",
        "    elif self.days > 1 and self.days < 4:\n",
        "      print(\"room rent is 300\")\n",
        "    else:\n",
        "      print(\"room rent is 250\")\n",
        "class Suite_room:\n",
        "  def Suite_calculates(self,no_rooms,days):\n",
        "    self.no_rooms = no_rooms\n",
        "    self.days = days\n",
        "    if self.no_rooms == 1:\n",
        "      print(\"room rent is 550\")\n",
        "    elif self.days > 1 and self.days < 4:\n",
        "      print(\"room rent is 500\")\n",
        "    else:\n",
        "      print(\"room rent is 450\")\n",
        "class Hotel:\n",
        "  def __int__(self,normal_room,AC_room,Suite_room):\n",
        "    self.normal_room = normal_room\n",
        "    self.AC_room = AC_room\n",
        "    self.Suite_room = Suite_room\n",
        "  def display(self,name,address,mobile_number):\n",
        "    print(\"name:\",name)\n",
        "    print(\"address:\",address)\n",
        "    print(\"mobile_number:\",mobile_number)\n",
        "c1 = hotel()\n",
        "print(c1.calculates(1,1))\n",
        "\n",
        "\n",
        "\n",
        "\n",
        "\n"
      ],
      "metadata": {
        "colab": {
          "base_uri": "https://localhost:8080/",
          "height": 106
        },
        "id": "oi4ukUiGocef",
        "outputId": "f297a2ca-692c-4588-d092-c67cb9418d15"
      },
      "execution_count": null,
      "outputs": [
        {
          "output_type": "error",
          "ename": "IndentationError",
          "evalue": "unexpected indent (<ipython-input-3-d5f96e7e39eb>, line 16)",
          "traceback": [
            "\u001b[0;36m  File \u001b[0;32m\"<ipython-input-3-d5f96e7e39eb>\"\u001b[0;36m, line \u001b[0;32m16\u001b[0m\n\u001b[0;31m    if self.days == 1:\u001b[0m\n\u001b[0m    ^\u001b[0m\n\u001b[0;31mIndentationError\u001b[0m\u001b[0;31m:\u001b[0m unexpected indent\n"
          ]
        }
      ]
    },
    {
      "cell_type": "code",
      "source": [
        "class normal_room:\n",
        "  def calculates(self,no_rooms,days):\n",
        "    self.no_rooms = no_rooms\n",
        "    self.days = days\n",
        "    if self.days == 1:\n",
        "      print( 300*self.days)\n",
        "    elif self.days > 1 and self.days < 4:\n",
        "      print(250*self.days)\n",
        "    else:\n",
        "       print(200*self.days)\n",
        "class AC_room:\n",
        "  def AC_calculates(self,no_rooms,days):\n",
        "    self.no_rooms = no_rooms\n",
        "    self.days = days\n",
        "    if self.days == 1:\n",
        "      print(200)\n",
        "    elif self.days > 1 and self.days < 4:\n",
        "      print(300*self.days)\n",
        "    else:\n",
        "      print(250*self.days)\n",
        "class Suite_room:\n",
        "  def Suite_calculates(self,no_rooms,days):\n",
        "    self.no_rooms = no_rooms\n",
        "    self.days = days\n",
        "    if self.no_rooms == 1:\n",
        "      print(550*self.days)\n",
        "    elif self.days > 1 and self.days < 4:\n",
        "      print(500*self.days)\n",
        "    else:\n",
        "      print(450*self.days)\n",
        "class Hotel:\n",
        "  def __init__(self,normal_room,AC_room,Suite_room):\n",
        "    self.normal_room = normal_room\n",
        "    self.AC_room = AC_room\n",
        "    self.Suite_room = Suite_room\n",
        "  def display(self,name,address,mobile_number):\n",
        "    print(\"name:\",name)\n",
        "    print(\"address:\",address)\n",
        "    print(\"mobile_number:\",mobile_number)\n",
        "c1 = Hotel(normal_room(),AC_room(),Suite_room())\n",
        "print(c1.normal_room.calculates(1,1))\n",
        "print(c1.AC_room.AC_calculates(1,1))\n",
        "print(c1.Suite_room.Suite_calculates(1,1))\n",
        "print(c1.display(\"sandeep\",\"belgum\",\"9513861196\"))"
      ],
      "metadata": {
        "colab": {
          "base_uri": "https://localhost:8080/"
        },
        "id": "dN7fbi6PxDWc",
        "outputId": "f6e86054-ed39-4ebf-9b11-ca7719624de3"
      },
      "execution_count": null,
      "outputs": [
        {
          "output_type": "stream",
          "name": "stdout",
          "text": [
            "300\n",
            "None\n",
            "200\n",
            "None\n",
            "550\n",
            "None\n",
            "name: sandeep\n",
            "address: belgum\n",
            "mobile_number: 9513861196\n",
            "None\n"
          ]
        }
      ]
    },
    {
      "cell_type": "code",
      "source": [
        "class car:\n",
        "  def audi(self,brand,model,price):\n",
        "    self.brand = brand\n",
        "    self.model = model\n",
        "    self.price = price\n",
        "  def showDetails(self):\n",
        "        print(\"brand:\", self.brand)\n",
        "        print(\"model:\", self.model)\n",
        "        print(\"price:\", self.price)\n",
        "c1 = car()\n",
        "c1.audi(\"toyato\",2007,10000)\n",
        "print(c1.showDetails())"
      ],
      "metadata": {
        "id": "sjysQBf1x2P_",
        "colab": {
          "base_uri": "https://localhost:8080/"
        },
        "outputId": "4ce77690-c531-45f9-b3ec-672082b1d0dd"
      },
      "execution_count": null,
      "outputs": [
        {
          "output_type": "stream",
          "name": "stdout",
          "text": [
            "brand: toyato\n",
            "model: 2007\n",
            "price: 10000\n",
            "None\n"
          ]
        }
      ]
    },
    {
      "cell_type": "code",
      "source": [
        "class person:\n",
        "  def __init__(self,name,age):\n",
        "    self.name = name\n",
        "    self.age = age\n",
        "  def showDetails(self):\n",
        "    print(\"name:\", self.name)\n",
        "    print(\"age:\", self.age)\n",
        "p1 = person(\"sandeep\",26)\n",
        "print(p1.showDetails())"
      ],
      "metadata": {
        "colab": {
          "base_uri": "https://localhost:8080/"
        },
        "id": "mX77dFTyj6T6",
        "outputId": "77db00c1-76b3-40be-e79c-393473429247"
      },
      "execution_count": null,
      "outputs": [
        {
          "output_type": "stream",
          "name": "stdout",
          "text": [
            "name: sandeep\n",
            "age: 26\n",
            "None\n"
          ]
        }
      ]
    },
    {
      "cell_type": "code",
      "source": [
        "class student:\n",
        "  school = \"modern\"\n",
        "  def __init__(self,name):\n",
        "    self.name = name\n",
        "s1 = student(\"sandeep\")\n",
        "print(s1.name,s1.school)\n",
        "\n",
        "student."
      ],
      "metadata": {
        "colab": {
          "base_uri": "https://localhost:8080/"
        },
        "id": "sdkDITdRmFKp",
        "outputId": "30e1f362-52a4-4b1f-ddf0-f47ffe0366c3"
      },
      "execution_count": null,
      "outputs": [
        {
          "output_type": "stream",
          "name": "stdout",
          "text": [
            "sandeep modern\n"
          ]
        }
      ]
    },
    {
      "cell_type": "code",
      "source": [],
      "metadata": {
        "colab": {
          "base_uri": "https://localhost:8080/"
        },
        "id": "nvnD5Vb6mlc6",
        "outputId": "83accccb-b54c-4449-f859-6f78c65822f2"
      },
      "execution_count": null,
      "outputs": [
        {
          "output_type": "stream",
          "name": "stdout",
          "text": [
            "moder moder\n",
            "moder moder\n"
          ]
        }
      ]
    },
    {
      "cell_type": "code",
      "source": [
        "class person:\n",
        "  def __init__(self,name):\n",
        "    self.name = name\n",
        "class staff(person):\n",
        "  def __init__(self,id):\n",
        "    self.id = id\n",
        "class temporaraystaff(staff):\n",
        "  def __init__(self):\n",
        "    def display(self,no_ofDays,hoursworked,total_salary):\n",
        "      self.no_ofDays = no_ofDays\n",
        "      self.hoursworked = hoursworked\n",
        "      self.total_salary = total_salary\n",
        "    def salary(self,total_salary):\n",
        "      self.total_salary = total_salary\n",
        "      total_salary = no_ofDays*hoursworked*150\n",
        "      return total_salary\n",
        "\n",
        "c1 = temporaraystaff()\n",
        "print(c1.name(\"sandeep\"))\n",
        "\n"
      ],
      "metadata": {
        "id": "ekayDQqDn6a1",
        "colab": {
          "base_uri": "https://localhost:8080/",
          "height": 193
        },
        "outputId": "62abf28c-d895-4dee-9953-825953dda514"
      },
      "execution_count": null,
      "outputs": [
        {
          "output_type": "error",
          "ename": "AttributeError",
          "evalue": "'temporaraystaff' object has no attribute 'name'",
          "traceback": [
            "\u001b[0;31m---------------------------------------------------------------------------\u001b[0m",
            "\u001b[0;31mAttributeError\u001b[0m                            Traceback (most recent call last)",
            "\u001b[0;32m<ipython-input-4-4ec7ccfbb6b9>\u001b[0m in \u001b[0;36m<cell line: 19>\u001b[0;34m()\u001b[0m\n\u001b[1;32m     17\u001b[0m \u001b[0;34m\u001b[0m\u001b[0m\n\u001b[1;32m     18\u001b[0m \u001b[0mc1\u001b[0m \u001b[0;34m=\u001b[0m \u001b[0mtemporaraystaff\u001b[0m\u001b[0;34m(\u001b[0m\u001b[0;34m)\u001b[0m\u001b[0;34m\u001b[0m\u001b[0;34m\u001b[0m\u001b[0m\n\u001b[0;32m---> 19\u001b[0;31m \u001b[0mprint\u001b[0m\u001b[0;34m(\u001b[0m\u001b[0mc1\u001b[0m\u001b[0;34m.\u001b[0m\u001b[0mname\u001b[0m\u001b[0;34m(\u001b[0m\u001b[0;34m\"sandeep\"\u001b[0m\u001b[0;34m)\u001b[0m\u001b[0;34m)\u001b[0m\u001b[0;34m\u001b[0m\u001b[0;34m\u001b[0m\u001b[0m\n\u001b[0m\u001b[1;32m     20\u001b[0m \u001b[0;34m\u001b[0m\u001b[0m\n",
            "\u001b[0;31mAttributeError\u001b[0m: 'temporaraystaff' object has no attribute 'name'"
          ]
        }
      ]
    },
    {
      "cell_type": "code",
      "source": [],
      "metadata": {
        "colab": {
          "base_uri": "https://localhost:8080/"
        },
        "id": "2gt_EkpKBN5r",
        "outputId": "86bec416-b9e2-4773-eb43-20dfb3ea0017"
      },
      "execution_count": null,
      "outputs": [
        {
          "output_type": "stream",
          "name": "stdout",
          "text": [
            "sandeep\n"
          ]
        }
      ]
    },
    {
      "cell_type": "code",
      "source": [
        "class Person:\n",
        "    def _init_(self, name):\n",
        "        self.name = name\n",
        "\n",
        "    def display(self):\n",
        "        print(\"Name:\", self.name)\n",
        "\n",
        "class Staff(Person):\n",
        "    def _init_(self, name, id):\n",
        "        super()._init_(name)\n",
        "        self.id = id\n",
        "\n",
        "    def display(self):\n",
        "        super().display()\n",
        "        print(\"ID:\", self.id)\n",
        "\n",
        "class TemporaryStaff(Staff):\n",
        "    def _init_(self, name, id, days, hours_per_day):\n",
        "        super()._init_(name, id)\n",
        "        self.days = days\n",
        "        self.hours_per_day = hours_per_day\n",
        "\n",
        "    def salary(self):\n",
        "        total_hours = self.days * self.hours_per_day\n",
        "        return total_hours * 150\n",
        "\n",
        "    def display(self):\n",
        "        super().display()\n",
        "        print(\"Days Worked:\", self.days)\n",
        "        print(\"Hours Per Day:\", self.hours_per_day)\n",
        "        print(\"Total Salary Earned:\", self.salary())\n",
        "\n",
        "# Example usage\n",
        "name = input(\"Enter name: \")\n",
        "id_number = input(\"Enter ID: \")\n",
        "days = int(input(\"Enter number of days worked: \"))\n",
        "hours_per_day = int(input(\"Enter hours worked per day: \"))\n",
        "\n",
        "staff = TemporaryStaff(name, id_number, days, hours_per_day)\n",
        "staff.display()"
      ],
      "metadata": {
        "id": "z4eqCJMjBrd2",
        "colab": {
          "base_uri": "https://localhost:8080/",
          "height": 263
        },
        "outputId": "6c8c45ff-d490-41d5-86ce-bc4739b788cb"
      },
      "execution_count": null,
      "outputs": [
        {
          "name": "stdout",
          "output_type": "stream",
          "text": [
            "Enter name: sandeep\n",
            "Enter ID: 34\n",
            "Enter number of days worked: 23\n",
            "Enter hours worked per day: 1\n"
          ]
        },
        {
          "output_type": "error",
          "ename": "TypeError",
          "evalue": "TemporaryStaff() takes no arguments",
          "traceback": [
            "\u001b[0;31m---------------------------------------------------------------------------\u001b[0m",
            "\u001b[0;31mTypeError\u001b[0m                                 Traceback (most recent call last)",
            "\u001b[0;32m<ipython-input-6-bf1a9cea54fa>\u001b[0m in \u001b[0;36m<cell line: 39>\u001b[0;34m()\u001b[0m\n\u001b[1;32m     37\u001b[0m \u001b[0mhours_per_day\u001b[0m \u001b[0;34m=\u001b[0m \u001b[0mint\u001b[0m\u001b[0;34m(\u001b[0m\u001b[0minput\u001b[0m\u001b[0;34m(\u001b[0m\u001b[0;34m\"Enter hours worked per day: \"\u001b[0m\u001b[0;34m)\u001b[0m\u001b[0;34m)\u001b[0m\u001b[0;34m\u001b[0m\u001b[0;34m\u001b[0m\u001b[0m\n\u001b[1;32m     38\u001b[0m \u001b[0;34m\u001b[0m\u001b[0m\n\u001b[0;32m---> 39\u001b[0;31m \u001b[0mstaff\u001b[0m \u001b[0;34m=\u001b[0m \u001b[0mTemporaryStaff\u001b[0m\u001b[0;34m(\u001b[0m\u001b[0mname\u001b[0m\u001b[0;34m,\u001b[0m \u001b[0mid_number\u001b[0m\u001b[0;34m,\u001b[0m \u001b[0mdays\u001b[0m\u001b[0;34m,\u001b[0m \u001b[0mhours_per_day\u001b[0m\u001b[0;34m)\u001b[0m\u001b[0;34m\u001b[0m\u001b[0;34m\u001b[0m\u001b[0m\n\u001b[0m\u001b[1;32m     40\u001b[0m \u001b[0mstaff\u001b[0m\u001b[0;34m.\u001b[0m\u001b[0mdisplay\u001b[0m\u001b[0;34m(\u001b[0m\u001b[0;34m)\u001b[0m\u001b[0;34m\u001b[0m\u001b[0;34m\u001b[0m\u001b[0m\n",
            "\u001b[0;31mTypeError\u001b[0m: TemporaryStaff() takes no arguments"
          ]
        }
      ]
    },
    {
      "cell_type": "code",
      "source": [
        "class car:\n",
        "  wheels = 4\n",
        "  def __init__(self,brand,model):\n",
        "    self.brand = brand\n",
        "    self.model = model\n",
        "c1 = car(\"toyato\",2007)\n",
        "print(c1.brand,c1.model,c1.wheels)\n",
        "car.wheels = 5\n",
        "print(c1.brand,c1.model,c1.wheels)\n"
      ],
      "metadata": {
        "id": "5yrB6LLVHewh",
        "colab": {
          "base_uri": "https://localhost:8080/"
        },
        "outputId": "2c5ce8b0-f101-48b6-bd53-ff712e2f05c8"
      },
      "execution_count": null,
      "outputs": [
        {
          "output_type": "stream",
          "name": "stdout",
          "text": [
            "toyato 2007 4\n",
            "toyato 2007 5\n"
          ]
        }
      ]
    },
    {
      "cell_type": "code",
      "source": [
        "class Animal:\n",
        "  def speak(self):\n",
        "    print(\"i make a sound\")\n",
        "class Dog(Animal):\n",
        "  print(\"woof\")\n",
        "c1 = Dog()\n",
        "print(c1.speak())\n"
      ],
      "metadata": {
        "colab": {
          "base_uri": "https://localhost:8080/"
        },
        "id": "iCQ0DHObeknG",
        "outputId": "a917963e-226a-47fe-8901-9fc7a1f49353"
      },
      "execution_count": null,
      "outputs": [
        {
          "output_type": "stream",
          "name": "stdout",
          "text": [
            "woof\n",
            "i make a sound\n",
            "None\n"
          ]
        }
      ]
    },
    {
      "cell_type": "code",
      "source": [
        "class person:\n",
        "  def __init__(self,name):\n",
        "    self.name = name\n",
        "  def showDetails(self):\n",
        "    print(\"name:\", self.name)\n",
        "class staff(person):\n",
        "  def __init__(self,id):\n",
        "    self.id = id\n",
        "  def showDetails(self):\n",
        "    print(\"name:\", self.name)\n",
        "    print(\"id:\", self.id)\n",
        "class TemporaryStaff(staff):\n",
        "  def __init__(self,days,hours_per_day):\n",
        "    self.days = days\n",
        "    self.hours_per_day = hours_per_day\n",
        "  def salary(self):\n",
        "    total_hours = self.days * self.hours_per_day\n",
        "    return total_hours * 150\n",
        "  def showDetails(self,name,id,days,hours_per_day):\n",
        "    super().__init__(name, id)\n",
        "    print(\"name:\", self.name)\n",
        "    print(\"id:\", self.id)\n",
        "    print(\"days:\", self.days)\n",
        "    print(\"hours_per_day:\", self.hours_per_day)\n",
        "c1 = TemporaryStaff(2,8)\n",
        "print(c1.salary())\n",
        "c1.showDetails(\"sandy\",25,23,6)\n",
        "\n"
      ],
      "metadata": {
        "id": "C4F6AkK4fFC3",
        "colab": {
          "base_uri": "https://localhost:8080/",
          "height": 332
        },
        "outputId": "dbcfd74d-cd9c-42a1-bdc3-e9185918b9af"
      },
      "execution_count": null,
      "outputs": [
        {
          "output_type": "stream",
          "name": "stdout",
          "text": [
            "2400\n"
          ]
        },
        {
          "output_type": "error",
          "ename": "TypeError",
          "evalue": "staff.__init__() takes 2 positional arguments but 3 were given",
          "traceback": [
            "\u001b[0;31m---------------------------------------------------------------------------\u001b[0m",
            "\u001b[0;31mTypeError\u001b[0m                                 Traceback (most recent call last)",
            "\u001b[0;32m<ipython-input-13-c7757d28a142>\u001b[0m in \u001b[0;36m<cell line: 27>\u001b[0;34m()\u001b[0m\n\u001b[1;32m     25\u001b[0m \u001b[0mc1\u001b[0m \u001b[0;34m=\u001b[0m \u001b[0mTemporaryStaff\u001b[0m\u001b[0;34m(\u001b[0m\u001b[0;36m2\u001b[0m\u001b[0;34m,\u001b[0m\u001b[0;36m8\u001b[0m\u001b[0;34m)\u001b[0m\u001b[0;34m\u001b[0m\u001b[0;34m\u001b[0m\u001b[0m\n\u001b[1;32m     26\u001b[0m \u001b[0mprint\u001b[0m\u001b[0;34m(\u001b[0m\u001b[0mc1\u001b[0m\u001b[0;34m.\u001b[0m\u001b[0msalary\u001b[0m\u001b[0;34m(\u001b[0m\u001b[0;34m)\u001b[0m\u001b[0;34m)\u001b[0m\u001b[0;34m\u001b[0m\u001b[0;34m\u001b[0m\u001b[0m\n\u001b[0;32m---> 27\u001b[0;31m \u001b[0mc1\u001b[0m\u001b[0;34m.\u001b[0m\u001b[0mshowDetails\u001b[0m\u001b[0;34m(\u001b[0m\u001b[0;34m\"sandy\"\u001b[0m\u001b[0;34m,\u001b[0m\u001b[0;36m25\u001b[0m\u001b[0;34m,\u001b[0m\u001b[0;36m23\u001b[0m\u001b[0;34m,\u001b[0m\u001b[0;36m6\u001b[0m\u001b[0;34m)\u001b[0m\u001b[0;34m\u001b[0m\u001b[0;34m\u001b[0m\u001b[0m\n\u001b[0m\u001b[1;32m     28\u001b[0m \u001b[0;34m\u001b[0m\u001b[0m\n",
            "\u001b[0;32m<ipython-input-13-c7757d28a142>\u001b[0m in \u001b[0;36mshowDetails\u001b[0;34m(self, name, id, days, hours_per_day)\u001b[0m\n\u001b[1;32m     18\u001b[0m     \u001b[0;32mreturn\u001b[0m \u001b[0mtotal_hours\u001b[0m \u001b[0;34m*\u001b[0m \u001b[0;36m150\u001b[0m\u001b[0;34m\u001b[0m\u001b[0;34m\u001b[0m\u001b[0m\n\u001b[1;32m     19\u001b[0m   \u001b[0;32mdef\u001b[0m \u001b[0mshowDetails\u001b[0m\u001b[0;34m(\u001b[0m\u001b[0mself\u001b[0m\u001b[0;34m,\u001b[0m\u001b[0mname\u001b[0m\u001b[0;34m,\u001b[0m\u001b[0mid\u001b[0m\u001b[0;34m,\u001b[0m\u001b[0mdays\u001b[0m\u001b[0;34m,\u001b[0m\u001b[0mhours_per_day\u001b[0m\u001b[0;34m)\u001b[0m\u001b[0;34m:\u001b[0m\u001b[0;34m\u001b[0m\u001b[0;34m\u001b[0m\u001b[0m\n\u001b[0;32m---> 20\u001b[0;31m     \u001b[0msuper\u001b[0m\u001b[0;34m(\u001b[0m\u001b[0;34m)\u001b[0m\u001b[0;34m.\u001b[0m\u001b[0m__init__\u001b[0m\u001b[0;34m(\u001b[0m\u001b[0mname\u001b[0m\u001b[0;34m,\u001b[0m \u001b[0mid\u001b[0m\u001b[0;34m)\u001b[0m\u001b[0;34m\u001b[0m\u001b[0;34m\u001b[0m\u001b[0m\n\u001b[0m\u001b[1;32m     21\u001b[0m     \u001b[0mprint\u001b[0m\u001b[0;34m(\u001b[0m\u001b[0;34m\"name:\"\u001b[0m\u001b[0;34m,\u001b[0m \u001b[0mself\u001b[0m\u001b[0;34m.\u001b[0m\u001b[0mname\u001b[0m\u001b[0;34m)\u001b[0m\u001b[0;34m\u001b[0m\u001b[0;34m\u001b[0m\u001b[0m\n\u001b[1;32m     22\u001b[0m     \u001b[0mprint\u001b[0m\u001b[0;34m(\u001b[0m\u001b[0;34m\"id:\"\u001b[0m\u001b[0;34m,\u001b[0m \u001b[0mself\u001b[0m\u001b[0;34m.\u001b[0m\u001b[0mid\u001b[0m\u001b[0;34m)\u001b[0m\u001b[0;34m\u001b[0m\u001b[0;34m\u001b[0m\u001b[0m\n",
            "\u001b[0;31mTypeError\u001b[0m: staff.__init__() takes 2 positional arguments but 3 were given"
          ]
        }
      ]
    },
    {
      "cell_type": "code",
      "source": [
        "class person:\n",
        "  def __init__(self,name):\n",
        "    self.name = name\n",
        "  def showDetails(self):\n",
        "    print(\"name:\", self.name)\n",
        "class staff(person):\n",
        "  def __init__(self,id):\n",
        "    self.id = id\n",
        "  def showDetails(self):\n",
        "    print(\"name:\", self.name)\n",
        "    print(\"id:\", self.id)\n",
        "class TemporaryStaff(staff):\n",
        "  def __init__(self,days,hours_per_day):\n",
        "    self.days = days\n",
        "    self.hours_per_day = hours_per_day\n",
        "  def salary(self):\n",
        "    total_hours = self.days * self.hours_per_day\n",
        "    return total_hours * 150\n",
        "  def showDetails(self,name,id,days,hours_per_day):\n",
        "    super().__init__(id)\n",
        "    print(\"name:\", name)\n",
        "    print(\"id:\", self.id)\n",
        "    print(\"days:\", self.days)\n",
        "    print(\"hours_per_day:\", self.hours_per_day)\n",
        "c1 = TemporaryStaff(2,8)\n",
        "print(c1.salary())\n",
        "c1.showDetails(\"sandy\",25,23,6)"
      ],
      "metadata": {
        "colab": {
          "base_uri": "https://localhost:8080/"
        },
        "id": "56OgtfPV_Efc",
        "outputId": "fe4d525c-2054-47cf-ffc1-f7b4dd9be70f"
      },
      "execution_count": null,
      "outputs": [
        {
          "output_type": "stream",
          "name": "stdout",
          "text": [
            "2400\n",
            "name: sandy\n",
            "id: 25\n",
            "days: 2\n",
            "hours_per_day: 8\n"
          ]
        }
      ]
    },
    {
      "cell_type": "code",
      "source": [
        "# Base class Person\n",
        "class Person:\n",
        "    def __init__(self, name):\n",
        "        self.name = name\n",
        "\n",
        "    def display(self):\n",
        "        print(\"Name:\", self.name)\n",
        "\n",
        "# Intermediate class Staff, inheriting from Person\n",
        "class Staff(Person):\n",
        "    def __init__(self, name, id):\n",
        "        super().__init__(name)  # Call constructor of Person to initialize name\n",
        "        self.id = id\n",
        "\n",
        "    def display(self):\n",
        "        super().display()  # Call display method of Person to show name\n",
        "        print(\"ID:\", self.id)\n",
        "\n",
        "# Derived class TemporaryStaff, inheriting from Staff\n",
        "class TemporaryStaff(Staff):\n",
        "    def __init__(self, name, id, days, hours_per_day):\n",
        "        super().__init__(name, id)  # Call constructor of Staff to initialize name and id\n",
        "        self.days = days\n",
        "        self.hours_per_day = hours_per_day\n",
        "\n",
        "    # Method to calculate salary\n",
        "    def salary(self):\n",
        "        total_hours = self.days * self.hours_per_day\n",
        "        return total_hours * 150\n",
        "\n",
        "    # Overridden display method to show temporary staff details\n",
        "    def display(self):\n",
        "        super().display()  # Call display method of Staff to show name and id\n",
        "        print(\"Days Worked:\", self.days)\n",
        "        print(\"Hours Worked Per Day:\", self.hours_per_day)\n",
        "        print(\"Total Salary Earned:\", self.salary())\n",
        "\n",
        "# Example usage:\n",
        "name = input(\"Enter name: \")\n",
        "id_number = input(\"Enter ID: \")\n",
        "days = int(input(\"Enter number of days worked: \"))\n",
        "hours_per_day = int(input(\"Enter hours worked per day: \"))\n",
        "\n",
        "# Create an object of TemporaryStaff\n",
        "staff = TemporaryStaff(name, id_number, days, hours_per_day)\n",
        "staff.display()  # Display the details and salary of the temporary staff\n"
      ],
      "metadata": {
        "colab": {
          "base_uri": "https://localhost:8080/"
        },
        "id": "wBSEbHndB9ae",
        "outputId": "5ae3bcb7-3c6a-4073-d7d1-9dac4710e5f7"
      },
      "execution_count": null,
      "outputs": [
        {
          "output_type": "stream",
          "name": "stdout",
          "text": [
            "Enter name: sandy\n",
            "Enter ID: 23\n",
            "Enter number of days worked: 4\n",
            "Enter hours worked per day: 12\n",
            "Name: sandy\n",
            "ID: 23\n",
            "Days Worked: 4\n",
            "Hours Worked Per Day: 12\n",
            "Total Salary Earned: 7200\n"
          ]
        }
      ]
    },
    {
      "source": [
        "class sum_odd:\n",
        "  def calc(self):\n",
        "    _n=int(input())  # _n is defined here\n",
        "    x = 0\n",
        "    for i in range(1,_n+1):  # Now _n is accessible in this loop\n",
        "      if i%2!=0:\n",
        "        x = x+i\n",
        "      print(x)\n",
        "\n",
        "m=sum_odd()\n",
        "m.calc()"
      ],
      "cell_type": "code",
      "metadata": {
        "id": "daAvbXWXtdfb"
      },
      "execution_count": null,
      "outputs": []
    },
    {
      "cell_type": "code",
      "source": [
        "from os import get_blocking\n",
        "class bank:\n",
        "  init (self,owner,bal=0):\n",
        "  __bal\n",
        "get_bal():\n",
        "deposite(self,amt):\n",
        " if amt>0:\n",
        "  self._bal += amt\n"
      ],
      "metadata": {
        "id": "ITy_qUcwtVAy"
      },
      "execution_count": null,
      "outputs": []
    }
  ]
}