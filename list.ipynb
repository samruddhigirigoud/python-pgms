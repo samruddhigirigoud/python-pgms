{
 "cells": [
  {
   "cell_type": "code",
   "execution_count": 1,
   "id": "72581191-9b3d-4f85-8abc-91265c3a5714",
   "metadata": {},
   "outputs": [
    {
     "data": {
      "text/plain": [
       "4"
      ]
     },
     "execution_count": 1,
     "metadata": {},
     "output_type": "execute_result"
    }
   ],
   "source": [
    "a=[10,20,30,40]\n",
    "b=len(a)\n",
    "b\n"
   ]
  },
  {
   "cell_type": "code",
   "execution_count": 2,
   "id": "6ab1a37f-f28c-4347-8633-889e0d3853eb",
   "metadata": {},
   "outputs": [
    {
     "name": "stdout",
     "output_type": "stream",
     "text": [
      "10 20 30 40 "
     ]
    }
   ],
   "source": [
    "for i in a:\n",
    "    print(i,end=\" \")"
   ]
  },
  {
   "cell_type": "code",
   "execution_count": 3,
   "id": "7ff5c34a-c4fe-4c12-8c71-2d00bd54aefd",
   "metadata": {},
   "outputs": [
    {
     "name": "stdout",
     "output_type": "stream",
     "text": [
      "value found\n"
     ]
    }
   ],
   "source": [
    "for i in a:\n",
    "    if i==30:\n",
    "        print(\"value found\")\n",
    "        break\n",
    "else:\n",
    "    print(\"not found\")"
   ]
  },
  {
   "cell_type": "code",
   "execution_count": 4,
   "id": "c42d73f4-9df8-430c-bf47-e39a64af81a9",
   "metadata": {},
   "outputs": [
    {
     "name": "stdout",
     "output_type": "stream",
     "text": [
      "10\n",
      "20\n",
      "30\n",
      "40\n"
     ]
    }
   ],
   "source": [
    "a=[10,20,30,40]\n",
    "\n",
    "i=0\n",
    "while i<len(a):\n",
    "    print(a[i])\n",
    "    i+=1\n",
    "    \n",
    "    \n",
    "    "
   ]
  },
  {
   "cell_type": "code",
   "execution_count": 5,
   "id": "cce88361-3fbb-459a-a8da-50469811e05d",
   "metadata": {},
   "outputs": [
    {
     "name": "stdout",
     "output_type": "stream",
     "text": [
      "2\n"
     ]
    }
   ],
   "source": [
    "for i in range(len(a)):\n",
    "    if a[i]==30:\n",
    "        print(i)\n",
    "        break\n",
    "        "
   ]
  },
  {
   "cell_type": "code",
   "execution_count": 6,
   "id": "f5c50a1a-ad2a-48fb-b367-911998639dac",
   "metadata": {},
   "outputs": [
    {
     "name": "stdout",
     "output_type": "stream",
     "text": [
      "3\n"
     ]
    }
   ],
   "source": [
    "print(a.index(40))"
   ]
  },
  {
   "cell_type": "code",
   "execution_count": 7,
   "id": "c92b0093-fc74-4158-a814-9b931bb3f07a",
   "metadata": {},
   "outputs": [
    {
     "name": "stdout",
     "output_type": "stream",
     "text": [
      "31\n"
     ]
    }
   ],
   "source": [
    "a=[10,20,30,40,58,90,23,56,78,98,34,13,57,57,89,33,45,87,11,28,3,4,9,10,20,47,56,6,87,72,84]\n",
    "print(len(a))"
   ]
  },
  {
   "cell_type": "code",
   "execution_count": 8,
   "id": "860e0c46-2a1c-427f-bbe4-f70cd9a82d75",
   "metadata": {},
   "outputs": [
    {
     "data": {
      "text/plain": [
       "84"
      ]
     },
     "execution_count": 8,
     "metadata": {},
     "output_type": "execute_result"
    }
   ],
   "source": [
    "a[len(a)-1]"
   ]
  },
  {
   "cell_type": "code",
   "execution_count": 9,
   "id": "d0a1064c-e388-431b-a9f1-1448095b2ed8",
   "metadata": {},
   "outputs": [
    {
     "data": {
      "text/plain": [
       "84"
      ]
     },
     "execution_count": 9,
     "metadata": {},
     "output_type": "execute_result"
    }
   ],
   "source": [
    "a[-1]"
   ]
  },
  {
   "cell_type": "code",
   "execution_count": 10,
   "id": "970cb01c-4d55-48f3-8bc9-73f2bbf2e4ec",
   "metadata": {},
   "outputs": [
    {
     "data": {
      "text/plain": [
       "6"
      ]
     },
     "execution_count": 10,
     "metadata": {},
     "output_type": "execute_result"
    }
   ],
   "source": [
    "a[-4]"
   ]
  },
  {
   "cell_type": "code",
   "execution_count": 11,
   "id": "73509a03-2ec5-4b5b-bc50-569f7af33ca0",
   "metadata": {},
   "outputs": [
    {
     "data": {
      "text/plain": [
       "28"
      ]
     },
     "execution_count": 11,
     "metadata": {},
     "output_type": "execute_result"
    }
   ],
   "source": [
    "a[-12]"
   ]
  },
  {
   "cell_type": "code",
   "execution_count": 12,
   "id": "8a120539-c87a-4bf7-b854-83b8f717e934",
   "metadata": {},
   "outputs": [
    {
     "data": {
      "text/plain": [
       "10"
      ]
     },
     "execution_count": 12,
     "metadata": {},
     "output_type": "execute_result"
    }
   ],
   "source": [
    "a[-len(a)]"
   ]
  },
  {
   "cell_type": "code",
   "execution_count": 13,
   "id": "1dc26576-a9c5-4ebd-8219-1f5cc6859b46",
   "metadata": {},
   "outputs": [],
   "source": [
    "a={}"
   ]
  },
  {
   "cell_type": "code",
   "execution_count": 14,
   "id": "49a32379-18d1-401e-8446-6078ce1bcb22",
   "metadata": {},
   "outputs": [
    {
     "ename": "SyntaxError",
     "evalue": "invalid syntax (1145722274.py, line 1)",
     "output_type": "error",
     "traceback": [
      "\u001b[1;36m  Cell \u001b[1;32mIn[14], line 1\u001b[1;36m\u001b[0m\n\u001b[1;33m    a[]\u001b[0m\n\u001b[1;37m      ^\u001b[0m\n\u001b[1;31mSyntaxError\u001b[0m\u001b[1;31m:\u001b[0m invalid syntax\n"
     ]
    }
   ],
   "source": [
    "a[]"
   ]
  },
  {
   "cell_type": "code",
   "execution_count": null,
   "id": "492961ac-acb4-4ca8-af3b-0e34eb9a1b79",
   "metadata": {},
   "outputs": [],
   "source": [
    "a=[]"
   ]
  },
  {
   "cell_type": "code",
   "execution_count": null,
   "id": "6ef55f10-635a-467b-9f18-0d3c5ee87ad6",
   "metadata": {},
   "outputs": [],
   "source": [
    "a"
   ]
  },
  {
   "cell_type": "code",
   "execution_count": null,
   "id": "bd58978c-f066-4375-bd20-be3e54d07868",
   "metadata": {},
   "outputs": [],
   "source": [
    "x=[1,\"asd\",84.9,\"a\"]"
   ]
  },
  {
   "cell_type": "code",
   "execution_count": null,
   "id": "88e318c1-dd6d-4f81-9645-cae51caeb168",
   "metadata": {},
   "outputs": [],
   "source": [
    "x"
   ]
  },
  {
   "cell_type": "code",
   "execution_count": null,
   "id": "7a33306d-34ae-4136-8c51-cbc58df26a0b",
   "metadata": {},
   "outputs": [],
   "source": [
    "x[1]"
   ]
  },
  {
   "cell_type": "code",
   "execution_count": null,
   "id": "742bb7e2-4db4-4b62-90fc-9b8b2987010d",
   "metadata": {},
   "outputs": [],
   "source": [
    "x.append(7)"
   ]
  },
  {
   "cell_type": "code",
   "execution_count": null,
   "id": "77f265a5-0d43-44ab-bacc-e2615dfbe190",
   "metadata": {},
   "outputs": [],
   "source": [
    "x\n"
   ]
  },
  {
   "cell_type": "code",
   "execution_count": null,
   "id": "c1685604-8e01-4899-84c1-3a469bc97484",
   "metadata": {},
   "outputs": [],
   "source": [
    "a=[\"s\",\"a\",\"m\"]\n",
    "x.append(a)"
   ]
  },
  {
   "cell_type": "code",
   "execution_count": null,
   "id": "801813de-86a4-41c6-aa35-8cdbe04797af",
   "metadata": {},
   "outputs": [],
   "source": [
    "x"
   ]
  },
  {
   "cell_type": "code",
   "execution_count": null,
   "id": "ba358356-d54f-4b93-bd0f-c0433cacd5cc",
   "metadata": {},
   "outputs": [],
   "source": [
    "a+=\"sam\""
   ]
  },
  {
   "cell_type": "code",
   "execution_count": null,
   "id": "2e473bf8-55e3-4fd4-8e81-942893af84fe",
   "metadata": {},
   "outputs": [],
   "source": [
    "a"
   ]
  },
  {
   "cell_type": "code",
   "execution_count": null,
   "id": "a9208a4d-c3eb-4c50-9ce2-f628e0e2b55e",
   "metadata": {},
   "outputs": [],
   "source": [
    "a*=2"
   ]
  },
  {
   "cell_type": "code",
   "execution_count": null,
   "id": "25c815c4-9407-4f2d-9d75-11e15a258eda",
   "metadata": {},
   "outputs": [],
   "source": [
    "a"
   ]
  },
  {
   "cell_type": "code",
   "execution_count": null,
   "id": "16365f01-d677-4021-9481-eeba0281af15",
   "metadata": {},
   "outputs": [],
   "source": [
    "x+=\"sam\""
   ]
  },
  {
   "cell_type": "code",
   "execution_count": null,
   "id": "2831bd6d-f231-42c1-9022-3396c1e98647",
   "metadata": {},
   "outputs": [],
   "source": [
    "x"
   ]
  },
  {
   "cell_type": "code",
   "execution_count": null,
   "id": "4c5949a8-4903-42d7-acfc-243898332126",
   "metadata": {},
   "outputs": [],
   "source": [
    "x*=2"
   ]
  },
  {
   "cell_type": "code",
   "execution_count": null,
   "id": "57055d6b-cdc5-458d-ae08-2ae81b330e0f",
   "metadata": {},
   "outputs": [],
   "source": [
    "x"
   ]
  },
  {
   "cell_type": "code",
   "execution_count": null,
   "id": "71a7d66e-b699-4e7a-acb0-18e903fde91b",
   "metadata": {},
   "outputs": [],
   "source": [
    "x[1]=\"abc\"\n"
   ]
  },
  {
   "cell_type": "code",
   "execution_count": null,
   "id": "f583f4b7-6f55-448c-a4d1-d7cb3e885aa4",
   "metadata": {},
   "outputs": [],
   "source": [
    "x"
   ]
  },
  {
   "cell_type": "code",
   "execution_count": null,
   "id": "f185836b-d758-45ff-b26f-b94e81276009",
   "metadata": {},
   "outputs": [],
   "source": [
    "a=[1,2,3,4,5,6,7,8]\n",
    "a"
   ]
  },
  {
   "cell_type": "code",
   "execution_count": null,
   "id": "f432f6ee-8182-402f-bd4e-3a2ee57c3e7f",
   "metadata": {},
   "outputs": [],
   "source": [
    "a[:3]"
   ]
  },
  {
   "cell_type": "code",
   "execution_count": null,
   "id": "57648dad-9471-4329-96c4-f1ce52e9b8b1",
   "metadata": {},
   "outputs": [],
   "source": [
    "a[0:3]"
   ]
  },
  {
   "cell_type": "code",
   "execution_count": null,
   "id": "dd722274-4cf1-4e83-a8ab-5611c0cba8b8",
   "metadata": {},
   "outputs": [],
   "source": [
    "a[:0]"
   ]
  },
  {
   "cell_type": "code",
   "execution_count": null,
   "id": "4fc79419-f6f1-400b-9961-560de9ddf0c1",
   "metadata": {},
   "outputs": [],
   "source": [
    "a[:1]\n"
   ]
  },
  {
   "cell_type": "code",
   "execution_count": null,
   "id": "5570efba-6e5f-4d60-ab90-8d71d017bb59",
   "metadata": {},
   "outputs": [],
   "source": [
    "a[1:]\n"
   ]
  },
  {
   "cell_type": "code",
   "execution_count": null,
   "id": "5527bfd5-9fcc-425c-9ed0-70180342f507",
   "metadata": {},
   "outputs": [],
   "source": [
    "a[::4]"
   ]
  },
  {
   "cell_type": "code",
   "execution_count": null,
   "id": "7165eaea-2b25-4373-bd90-bdf6d2f33b60",
   "metadata": {},
   "outputs": [],
   "source": [
    "a[::-1]"
   ]
  },
  {
   "cell_type": "code",
   "execution_count": null,
   "id": "a566022d-3482-40a9-8336-4228cf89f3ce",
   "metadata": {},
   "outputs": [],
   "source": [
    "a[:-1:3]"
   ]
  },
  {
   "cell_type": "code",
   "execution_count": null,
   "id": "4a031773-5a6f-44eb-8327-90c6e3bf983a",
   "metadata": {},
   "outputs": [],
   "source": [
    "a=[]\n",
    "n=int(input(\"enetr numbre\"))\n",
    "for i in range(100):\n",
    "    a.append(n)\n",
    "print(a)\n",
    "print(len(a))"
   ]
  },
  {
   "cell_type": "code",
   "execution_count": null,
   "id": "c3e5d0d6-feff-41d9-9009-806305063a32",
   "metadata": {},
   "outputs": [],
   "source": [
    "a=[]\n",
    "#n=int(input(\"enter number\"))\n",
    "for i in range (1,21):\n",
    "    \n",
    "    a.append(i)\n",
    "print(a[::2])\n",
    "    \n",
    "        \n",
    "\n",
    "        \n",
    "        "
   ]
  },
  {
   "cell_type": "code",
   "execution_count": null,
   "id": "3d4ad68d-b390-43ef-b113-3f4651b860ac",
   "metadata": {},
   "outputs": [],
   "source": [
    "a=[1,2,3,4,5,6,7,8,9,10]\n",
    "b=[]\n",
    "for i in range(len(a)+1):\n",
    "    \n",
    "        b.append(i)\n",
    "print(a)\n",
    "print(b[1::2])\n"
   ]
  },
  {
   "cell_type": "code",
   "execution_count": null,
   "id": "ea891623-d648-47a6-b232-d2448410dbe1",
   "metadata": {},
   "outputs": [],
   "source": [
    "a=[1,2,3,4,5,6,7,8,9,10,11]\n",
    "b=[]\n",
    "for i in range(len(a)+1):\n",
    "    \n",
    "        b.append(i)\n",
    "print(a)\n",
    "print(b[::2])"
   ]
  },
  {
   "cell_type": "code",
   "execution_count": null,
   "id": "32aa58bb-dfa2-4279-bc94-af6152dcc3f5",
   "metadata": {},
   "outputs": [],
   "source": [
    "a=['a','b,','c','d','e']\n",
    "print(a)\n",
    "b=[\"python\"]\n",
    "print(b)\n",
    "res=a+b\n",
    "print(res)"
   ]
  },
  {
   "cell_type": "code",
   "execution_count": null,
   "id": "c8fa022a-b019-4ffd-ab8e-da83f6d3db9c",
   "metadata": {},
   "outputs": [],
   "source": [
    "n=input(\"enter string\")\n",
    "a=list(n)\n",
    "a\n"
   ]
  },
  {
   "cell_type": "code",
   "execution_count": null,
   "id": "f373340e-b728-4567-9abb-0875df7c1085",
   "metadata": {},
   "outputs": [],
   "source": [
    "a=input(\"enter number of a\").split()\n",
    "a=[int(x) for x in a]\n",
    "b=input(\"enter number of b\").split()\n",
    "b=[int(x) for x in b]\n",
    "print(a)\n",
    "print(b)\n",
    "print(a+b)"
   ]
  },
  {
   "cell_type": "code",
   "execution_count": null,
   "id": "544ae51c-6c40-47b1-8a0a-0b53798ad5ea",
   "metadata": {},
   "outputs": [],
   "source": [
    "n=input(\"enter numbers\").split()\n",
    "a=list(n)\n",
    "print(max(a))"
   ]
  },
  {
   "cell_type": "code",
   "execution_count": null,
   "id": "ff89c275-d4ac-488a-bcf6-d02c0321c38b",
   "metadata": {},
   "outputs": [],
   "source": [
    "n=input(\"enter numbers\").split()\n",
    "for i in range(len(n)):\n",
    "        n[i] = int(n[i])\n",
    "print(n)\n",
    "\n",
    "def sums(n):\n",
    "    total=0\n",
    "    for i in range(n):\n",
    "        total+=i\n",
    "    return total\n",
    "res=sums(n)\n",
    "print(res)\n",
    "    \n",
    "    "
   ]
  },
  {
   "cell_type": "code",
   "execution_count": null,
   "id": "68fcfcc1-2cab-413d-b474-b1287ee2fd6e",
   "metadata": {},
   "outputs": [],
   "source": [
    "x=\"hi how\"\n",
    "x.split()"
   ]
  },
  {
   "cell_type": "code",
   "execution_count": null,
   "id": "0d19d895-47e0-4370-b968-cab6f9cc2eef",
   "metadata": {},
   "outputs": [],
   "source": [
    "n=int(input(\"enter size\"))\n",
    "for i in range(n):\n",
    "    num=input(\"enter number\").split()\n",
    "def dist(nu):\n",
    "    res=set(nu)\n",
    "    return len(res)\n",
    "dist(nu)\n",
    "num\n",
    "\n",
    "\n",
    "\n",
    "    "
   ]
  },
  {
   "cell_type": "code",
   "execution_count": null,
   "id": "1143e18f-e2b6-415b-ab85-b211e3c4ec4e",
   "metadata": {},
   "outputs": [],
   "source": [
    "a=[\"apple\",\"banana\",\"cherry\"]\n",
    "res=[x for x in a if \"a\" in x]\n",
    "print(res)"
   ]
  },
  {
   "cell_type": "code",
   "execution_count": null,
   "id": "0153b971-efd9-4b54-b6cc-ba99eeda75d1",
   "metadata": {},
   "outputs": [],
   "source": [
    "x,y=[int(x) for x in input().split()]\n",
    "print(\"first number:\",x)\n",
    "print(\"second number:\",y)\n"
   ]
  },
  {
   "cell_type": "code",
   "execution_count": null,
   "id": "523c6f7a-158c-481b-82f0-90e4f0df01a6",
   "metadata": {},
   "outputs": [],
   "source": [
    "size1=int(input()) #create 1 list and append to other\n",
    "list1=[]\n",
    "for i in range(size1):\n",
    "    list1.append(int(input()))\n",
    "print(list1)\n",
    "size=int(input())\n",
    "list2=[]\n",
    "for i in range(size):\n",
    "    list2.append(int(input()))\n",
    "print(list2)"
   ]
  },
  {
   "cell_type": "code",
   "execution_count": null,
   "id": "747f838e-31ee-4e25-b859-89e9def81514",
   "metadata": {},
   "outputs": [],
   "source": [
    "#maximum number in list\n",
    "a=int(input())\n",
    "b=list(map(int,input().split()))\n",
    "print(max(b))\n"
   ]
  },
  {
   "cell_type": "code",
   "execution_count": null,
   "id": "1318a20d-aa10-4448-9412-decc8fb052bc",
   "metadata": {},
   "outputs": [],
   "source": [
    "#second largest number in list\n",
    "a=int(input())\n",
    "b=list(map(int,input().split()))\n",
    "b.sort()\n",
    "print(b[-2])\n"
   ]
  },
  {
   "cell_type": "code",
   "execution_count": null,
   "id": "151ae5b2-021c-46dd-9c80-2f922ed204ec",
   "metadata": {},
   "outputs": [],
   "source": [
    "#create list of 10 ele ,create another list containing odd values\n",
    "list1=list(range(1,11))\n",
    "odd=list1[::2]\n",
    "print(list1)\n",
    "print(odd)"
   ]
  },
  {
   "cell_type": "code",
   "execution_count": null,
   "id": "59fea54e-5db9-4ff6-b861-929721ed15d1",
   "metadata": {},
   "outputs": [],
   "source": [
    "list1=list(range(1,11))\n",
    "odd=list1[1::2]\n",
    "print(list1)\n",
    "print(odd)"
   ]
  },
  {
   "cell_type": "code",
   "execution_count": null,
   "id": "fa5d689d-2900-4403-999d-8476dd24b818",
   "metadata": {},
   "outputs": [],
   "source": [
    "#largest even and odd number in list\n",
    "n=int(input())\n",
    "b=[]\n",
    "for i in range(n):\n",
    "    a=int(input())\n",
    "    b.append(a)\n",
    "c=[]\n",
    "d=[]\n",
    "for i in b:\n",
    "    if(i%2==0):\n",
    "        c.append(i)\n",
    "    else:\n",
    "        d.append(i)\n",
    "c.sort()\n",
    "d.sort()\n",
    "print(\"largest even number:\",c[-1])\n",
    "print(\"largest odd number:\",d[-1])\n"
   ]
  },
  {
   "cell_type": "code",
   "execution_count": null,
   "id": "a19d7eb6-5c2f-42bd-a001-643f275a8c73",
   "metadata": {},
   "outputs": [],
   "source": [
    "#union of list\n",
    "l1=[]\n",
    "num1=int(input(\"enter size of list 1:\"))\n",
    "for n in range(num1):\n",
    "    n=int(input(\"enter numbers:\"))\n",
    "    l1.append(n)\n",
    "\n",
    "l2=[]\n",
    "num2=int(input(\"enter size of list 2:\"))\n",
    "for n in range(num2):\n",
    "    x=int(input(\"enter numbers:\"))\n",
    "    l2.append(x)\n",
    "l3=l1+l2\n",
    "print(l3)\n",
    "    "
   ]
  },
  {
   "cell_type": "code",
   "execution_count": null,
   "id": "a27be82a-1c6c-482a-977d-1bc78a57e05d",
   "metadata": {},
   "outputs": [],
   "source": [
    "a=list(map(int,input().split()))\n",
    "b=list(map(int,input().split()))\n",
    "union=list(set().union(a,b))\n",
    "print(union)\n",
    "\n"
   ]
  },
  {
   "cell_type": "code",
   "execution_count": null,
   "id": "5142a2c9-edfa-4b67-bf62-5de3a1fbf1b6",
   "metadata": {},
   "outputs": [],
   "source": [
    "def find_repeated_elements(input_list):\n",
    "    \n",
    "    frequency = {}\n",
    "    repeated_elements = []\n",
    "\n",
    "    for item in input_list:\n",
    "        if item in frequency:\n",
    "            frequency[item] += 1\n",
    "        else:\n",
    "            frequency[item] = 1\n",
    "\n",
    "    # Identify elements with frequency greater than 1\n",
    "    for item, count in frequency.items():\n",
    "        if count > 1:\n",
    "            repeated_elements.append(item)\n",
    "\n",
    "    return repeated_elements\n",
    "\n",
    "\n",
    "# Example usage\n",
    "input_list = [3,1,2,3]\n",
    "repeated = find_repeated_elements(input_list)\n",
    "\n",
    "print(\"Repeated elements:\", repeated)\n"
   ]
  },
  {
   "cell_type": "code",
   "execution_count": null,
   "id": "8750bbba-2b3f-4215-9e99-bfd8cee3f99f",
   "metadata": {},
   "outputs": [],
   "source": [
    "size=int(input())\n",
    "lst1=list(map(int,input().split()))\n",
    "b=[]\n",
    "unique=[]\n",
    "for x in lst1:\n",
    "    if x not in b:\n",
    "        unique.append(x)\n",
    "        b.append(x)\n",
    "print(unique)\n",
    "          "
   ]
  },
  {
   "cell_type": "code",
   "execution_count": null,
   "id": "01bed4bb-9642-4e12-a6b0-3e9a372cff72",
   "metadata": {},
   "outputs": [],
   "source": [
    "#swapping 1 and last ele\n",
    "size=int(input())\n",
    "lst1=list(map(int,input().split()))\n",
    "lst1[0]=lst1[0]+lst1[-1]\n",
    "lst1[-1]=lst1[0]-lst1[-1]\n",
    "lst1[0]=lst1[0]-lst1[-1]\n",
    "print(lst1)\n"
   ]
  },
  {
   "cell_type": "code",
   "execution_count": null,
   "id": "717c3799-3d18-40ec-919b-03154334e6b0",
   "metadata": {},
   "outputs": [],
   "source": [
    "tuple=('developer',5,9.8,'r',8)\n",
    "print(len(tuple))"
   ]
  },
  {
   "cell_type": "code",
   "execution_count": null,
   "id": "05debe5f-37fc-4049-89d7-c8112c4b8887",
   "metadata": {},
   "outputs": [],
   "source": [
    "tuple=(9,5,89,4,8)\n",
    "print(max(tuple))"
   ]
  },
  {
   "cell_type": "code",
   "execution_count": null,
   "id": "d5bf37d0-52cb-41ed-ad51-71168ddab31f",
   "metadata": {},
   "outputs": [],
   "source": [
    "tuple=(9,5,89,4,8)\n",
    "print(min(tuple))"
   ]
  },
  {
   "cell_type": "code",
   "execution_count": null,
   "id": "ab9c0f3c-e4d5-4343-9dbd-4c3ee791c0f2",
   "metadata": {},
   "outputs": [],
   "source": [
    "tuple=(9,5,89,4,8)\n",
    "print(sum(tuple))"
   ]
  },
  {
   "cell_type": "code",
   "execution_count": null,
   "id": "57ebb2fb-6036-44aa-84ed-008a5cb6fa8d",
   "metadata": {},
   "outputs": [],
   "source": [
    "tuple=(0,1)\n",
    "print(any(tuple))"
   ]
  },
  {
   "cell_type": "code",
   "execution_count": null,
   "id": "de2176dd-07ad-4821-b03d-bd62882b7274",
   "metadata": {},
   "outputs": [],
   "source": [
    "tuple=(0,1)\n",
    "print(all(tuple))"
   ]
  },
  {
   "cell_type": "code",
   "execution_count": null,
   "id": "635af755-b85e-41a1-8d1b-3588aa20082c",
   "metadata": {},
   "outputs": [],
   "source": [
    "tuple=(\"apple\",\"byte\",\"computer\")\n",
    "for i in tuple:\n",
    "    print(i)"
   ]
  },
  {
   "cell_type": "code",
   "execution_count": null,
   "id": "0c14837c-9fab-41b5-96f6-6b015b5f0a7a",
   "metadata": {},
   "outputs": [],
   "source": [
    "tuple=(\"apple\",\"byte\",\"computer\")\n",
    "print(list(tuple))"
   ]
  },
  {
   "cell_type": "code",
   "execution_count": null,
   "id": "745424bf-8fad-4991-b5b6-df33b14efb2a",
   "metadata": {},
   "outputs": [],
   "source": [
    "tuple=(9,5,89,4,8,8)\n",
    "print(tuple.count(8))\n",
    "print(tuple.count(9))"
   ]
  },
  {
   "cell_type": "code",
   "execution_count": null,
   "id": "092956f6-64ee-42cd-8e17-5046cb939283",
   "metadata": {},
   "outputs": [],
   "source": [
    "value_tuple=(26,45,\"hello\")\n",
    "value=(\"a\")\n",
    "type(value)\n",
    "tuple"
   ]
  },
  {
   "cell_type": "code",
   "execution_count": null,
   "id": "9a3f567b-8e82-4a8c-a63f-3a226da163c5",
   "metadata": {},
   "outputs": [],
   "source": [
    "t1=(26,50,65,\"hello\")\n",
    "t1\n"
   ]
  },
  {
   "cell_type": "code",
   "execution_count": null,
   "id": "790720e3-dc0f-49e7-86af-4aafb8de9ea0",
   "metadata": {},
   "outputs": [],
   "source": [
    "t1=(26,50,65,\"hello\")\n",
    "t1\n",
    "t1[2]=\"python\""
   ]
  },
  {
   "cell_type": "code",
   "execution_count": null,
   "id": "57d7f59b-5f90-4acb-a8c5-eb92755ee34a",
   "metadata": {},
   "outputs": [],
   "source": [
    "t1=(26,50,65,\"hello\")\n",
    "t2=(20,30,40,\"sam\")\n",
    "c=t1+t2\n",
    "c"
   ]
  },
  {
   "cell_type": "code",
   "execution_count": null,
   "id": "3d367fcb-5a20-42e9-9ed1-86c7a36e8c27",
   "metadata": {},
   "outputs": [],
   "source": [
    "t1=(26,50,65,\"hello\")\n",
    "t3=t1+(90,)\n",
    "t3"
   ]
  },
  {
   "cell_type": "code",
   "execution_count": null,
   "id": "dd53243b-9f10-4953-923a-eaaa2fbe8e25",
   "metadata": {},
   "outputs": [],
   "source": [
    "t1=(26,50,65,\"hello\")\n",
    "t4=list(t1)\n",
    "t4"
   ]
  },
  {
   "cell_type": "code",
   "execution_count": null,
   "id": "c3b41537-929f-4da1-8f6e-a5078137d84b",
   "metadata": {},
   "outputs": [],
   "source": [
    "t1=(26,50,65,\"hello\")\n",
    "t4.append(t1)\n",
    "t4"
   ]
  },
  {
   "cell_type": "code",
   "execution_count": null,
   "id": "c98f4d18-d98b-4595-93b2-e8ec9fa9f4db",
   "metadata": {},
   "outputs": [],
   "source": [
    "t1=(26,50,65,\"hello\")\n",
    "t4=t1(converted_list)\n",
    "t4"
   ]
  },
  {
   "cell_type": "code",
   "execution_count": null,
   "id": "45c6929e-d3f6-42f5-be0f-e7f96412d5d5",
   "metadata": {},
   "outputs": [],
   "source": [
    "t1=(26,50,65,\"hello\")*2\n",
    "print(t1)"
   ]
  },
  {
   "cell_type": "code",
   "execution_count": null,
   "id": "9e841906-9cec-4e2f-8c3f-36c09425a2a8",
   "metadata": {},
   "outputs": [],
   "source": [
    "a=input(\"enter a values\")\n",
    "tuple1=tuple(a)\n",
    "print(tuple1)"
   ]
  },
  {
   "cell_type": "code",
   "execution_count": 77,
   "id": "eb1c11dc-4a2b-43dd-a64b-5256f1692648",
   "metadata": {},
   "outputs": [
    {
     "name": "stdin",
     "output_type": "stream",
     "text": [
      "enter value 3\n",
      " 1\n",
      " 2\n",
      " 3\n"
     ]
    },
    {
     "data": {
      "text/plain": [
       "(1, 2, 3)"
      ]
     },
     "execution_count": 77,
     "metadata": {},
     "output_type": "execute_result"
    }
   ],
   "source": [
    "value=()\n",
    "n=int(input(\"enter value\"))\n",
    "list1=[]\n",
    "for i in range(n):\n",
    "    list1.append(int(input()))\n",
    "value=tuple(list1)\n",
    "value"
   ]
  },
  {
   "cell_type": "code",
   "execution_count": 1,
   "id": "dc591e62-afe1-4d8e-8337-cda95fddebc2",
   "metadata": {},
   "outputs": [
    {
     "data": {
      "text/plain": [
       "(1, 2, 3, 4, 5, 9)"
      ]
     },
     "execution_count": 1,
     "metadata": {},
     "output_type": "execute_result"
    }
   ],
   "source": [
    "a=(1,2,3,4,5)\n",
    "b=list(a)\n",
    "b.append(9)\n",
    "c=tuple(b)\n",
    "c"
   ]
  },
  {
   "cell_type": "code",
   "execution_count": 1,
   "id": "6d1a5df8-5901-442e-b88e-e952ea4dd32c",
   "metadata": {},
   "outputs": [
    {
     "name": "stdout",
     "output_type": "stream",
     "text": [
      "one\n",
      "two\n",
      "three\n",
      "four\n"
     ]
    },
    {
     "ename": "IndexError",
     "evalue": "tuple index out of range",
     "output_type": "error",
     "traceback": [
      "\u001b[1;31m---------------------------------------------------------------------------\u001b[0m",
      "\u001b[1;31mIndexError\u001b[0m                                Traceback (most recent call last)",
      "Cell \u001b[1;32mIn[1], line 3\u001b[0m\n\u001b[0;32m      1\u001b[0m number\u001b[38;5;241m=\u001b[39m(\u001b[38;5;124m\"\u001b[39m\u001b[38;5;124mone\u001b[39m\u001b[38;5;124m\"\u001b[39m,\u001b[38;5;124m\"\u001b[39m\u001b[38;5;124mtwo\u001b[39m\u001b[38;5;124m\"\u001b[39m,\u001b[38;5;124m\"\u001b[39m\u001b[38;5;124mthree\u001b[39m\u001b[38;5;124m\"\u001b[39m,\u001b[38;5;124m\"\u001b[39m\u001b[38;5;124mfour\u001b[39m\u001b[38;5;124m\"\u001b[39m)\n\u001b[0;32m      2\u001b[0m i\u001b[38;5;241m=\u001b[39m\u001b[38;5;241m0\u001b[39m\n\u001b[1;32m----> 3\u001b[0m \u001b[38;5;28;01mwhile\u001b[39;00m i\u001b[38;5;241m<\u001b[39m\u001b[38;5;28mlen\u001b[39m(number[i]):\n\u001b[0;32m      4\u001b[0m     \u001b[38;5;28mprint\u001b[39m(number[i])\n\u001b[0;32m      5\u001b[0m     i\u001b[38;5;241m=\u001b[39mi\u001b[38;5;241m+\u001b[39m\u001b[38;5;241m1\u001b[39m\n",
      "\u001b[1;31mIndexError\u001b[0m: tuple index out of range"
     ]
    }
   ],
   "source": [
    "number=(\"one\",\"two\",\"three\",\"four\")\n",
    "i=0\n",
    "while i<len(number[i]):\n",
    "    print(number[i])\n",
    "    i=i+1\n"
   ]
  },
  {
   "cell_type": "code",
   "execution_count": 3,
   "id": "15cc2c4d-223a-4949-8a91-ba800b7482e7",
   "metadata": {},
   "outputs": [
    {
     "name": "stdout",
     "output_type": "stream",
     "text": [
      "one\n",
      "two\n",
      "three\n",
      "four\n"
     ]
    }
   ],
   "source": [
    "number=(\"one\",\"two\",\"three\",\"four\")\n",
    "for i in number:\n",
    "    print(i)"
   ]
  },
  {
   "cell_type": "code",
   "execution_count": 7,
   "id": "bf2de018-d5e9-43dc-8887-4d2cc6371b42",
   "metadata": {},
   "outputs": [
    {
     "name": "stdout",
     "output_type": "stream",
     "text": [
      "45\n"
     ]
    }
   ],
   "source": [
    "value_tuple=(26,12,10,6,67,91,45,'hello',7.5,99,7,\"name\")\n",
    "print(value_tuple[6])\n"
   ]
  },
  {
   "cell_type": "code",
   "execution_count": 9,
   "id": "5643571a-e171-45de-b4fc-1cc3aaf49b81",
   "metadata": {},
   "outputs": [
    {
     "name": "stdout",
     "output_type": "stream",
     "text": [
      "45\n"
     ]
    }
   ],
   "source": [
    "value_tuple=(26,12,10,6,67,91,45,'hello',7.5,99,7,\"name\")\n",
    "print(value_tuple[-6])\n"
   ]
  },
  {
   "cell_type": "code",
   "execution_count": 23,
   "id": "b05e4e8a-9dfa-4da9-9557-a81b1ec72761",
   "metadata": {},
   "outputs": [
    {
     "name": "stdout",
     "output_type": "stream",
     "text": [
      "True\n"
     ]
    }
   ],
   "source": [
    "value_tuple=(26,12,10,6,67,91,45,'hello',7.5,99,7,\"name\")\n",
    "print(45 in value_tuple)"
   ]
  },
  {
   "cell_type": "code",
   "execution_count": 19,
   "id": "7ee75a75-056d-4476-8ba3-f1867dac3194",
   "metadata": {},
   "outputs": [
    {
     "name": "stdout",
     "output_type": "stream",
     "text": [
      "four\n"
     ]
    }
   ],
   "source": [
    "number=(\"one\",\"two\",\"three\",\"four\")\n",
    "(a,b,c,d)=number\n",
    "print(d)"
   ]
  },
  {
   "cell_type": "code",
   "execution_count": 34,
   "id": "6180b747-eb4e-46e2-946c-03c5e1c7044e",
   "metadata": {},
   "outputs": [
    {
     "name": "stdout",
     "output_type": "stream",
     "text": [
      "one\n",
      "two three four\n"
     ]
    }
   ],
   "source": [
    "number=(\"one\",\"two\",\"three\",\"four\",\"all\")\n",
    "(a,*b,c)=number\n",
    "print(a)\n",
    "print(*b)\n"
   ]
  },
  {
   "cell_type": "code",
   "execution_count": 43,
   "id": "11c69b34-177a-47c8-8c9d-f075fd9aff0b",
   "metadata": {},
   "outputs": [
    {
     "name": "stdout",
     "output_type": "stream",
     "text": [
      "{1, 2, 3, 4, 5, 6}\n"
     ]
    }
   ],
   "source": [
    "b={1,2,3,4,5}\n",
    "b.add(6)\n",
    "print(b)"
   ]
  },
  {
   "cell_type": "code",
   "execution_count": 57,
   "id": "db87f333-4e82-4449-bcc3-bfa46a2ceb70",
   "metadata": {},
   "outputs": [
    {
     "name": "stdout",
     "output_type": "stream",
     "text": [
      "{1, 2, 3, 4, 5}\n"
     ]
    }
   ],
   "source": [
    "b={1,2,3,4,5,6}\n",
    "b.remove(6)\n",
    "print(b)"
   ]
  },
  {
   "cell_type": "code",
   "execution_count": 53,
   "id": "91e454d0-0175-45d2-8639-5c076972bcd9",
   "metadata": {},
   "outputs": [
    {
     "name": "stdout",
     "output_type": "stream",
     "text": [
      "{1, 2, 3, 4, 5}\n"
     ]
    }
   ],
   "source": [
    "b={1,2,3,4,5,6}\n",
    "b.discard(6)\n",
    "print(b)"
   ]
  },
  {
   "cell_type": "code",
   "execution_count": null,
   "id": "722cfebf-ad5c-4887-ad3a-9c4ae8276b2a",
   "metadata": {},
   "outputs": [],
   "source": []
  }
 ],
 "metadata": {
  "kernelspec": {
   "display_name": "Python 3 (ipykernel)",
   "language": "python",
   "name": "python3"
  },
  "language_info": {
   "codemirror_mode": {
    "name": "ipython",
    "version": 3
   },
   "file_extension": ".py",
   "mimetype": "text/x-python",
   "name": "python",
   "nbconvert_exporter": "python",
   "pygments_lexer": "ipython3",
   "version": "3.12.4"
  }
 },
 "nbformat": 4,
 "nbformat_minor": 5
}
