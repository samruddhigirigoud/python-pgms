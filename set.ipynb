{
 "cells": [
  {
   "cell_type": "code",
   "execution_count": 5,
   "id": "bd089d76-a057-45c0-a713-eb739941a64b",
   "metadata": {},
   "outputs": [
    {
     "data": {
      "text/plain": [
       "{6, 'python'}"
      ]
     },
     "execution_count": 5,
     "metadata": {},
     "output_type": "execute_result"
    }
   ],
   "source": [
    "values={6,\"python\",6}\n",
    "values"
   ]
  },
  {
   "cell_type": "code",
   "execution_count": 7,
   "id": "3203cfff-37fa-440b-97d3-1cb67b12c77e",
   "metadata": {},
   "outputs": [
    {
     "data": {
      "text/plain": [
       "set"
      ]
     },
     "execution_count": 7,
     "metadata": {},
     "output_type": "execute_result"
    }
   ],
   "source": [
    "type(values)"
   ]
  },
  {
   "cell_type": "code",
   "execution_count": 11,
   "id": "892252bb-bded-41e7-94cc-d2e3d6dae071",
   "metadata": {},
   "outputs": [
    {
     "data": {
      "text/plain": [
       "dict"
      ]
     },
     "execution_count": 11,
     "metadata": {},
     "output_type": "execute_result"
    }
   ],
   "source": [
    "value={}\n",
    "type(value)"
   ]
  },
  {
   "cell_type": "code",
   "execution_count": 13,
   "id": "a8c26fee-db9a-4026-9d58-8a6c5cfb280f",
   "metadata": {},
   "outputs": [
    {
     "data": {
      "text/plain": [
       "set()"
      ]
     },
     "execution_count": 13,
     "metadata": {},
     "output_type": "execute_result"
    }
   ],
   "source": [
    "values=set()\n",
    "values"
   ]
  },
  {
   "cell_type": "code",
   "execution_count": 19,
   "id": "ff540521-8e69-40fb-a6fb-7e6a91f3e259",
   "metadata": {},
   "outputs": [
    {
     "data": {
      "text/plain": [
       "{2, 5, 6, 7, 9}"
      ]
     },
     "execution_count": 19,
     "metadata": {},
     "output_type": "execute_result"
    }
   ],
   "source": [
    "values={9,5,7,2,6}\n",
    "values"
   ]
  },
  {
   "cell_type": "code",
   "execution_count": 21,
   "id": "0378051c-5787-454c-8202-1c1a45d5fdb6",
   "metadata": {},
   "outputs": [
    {
     "name": "stdout",
     "output_type": "stream",
     "text": [
      "set()\n"
     ]
    }
   ],
   "source": [
    "set1=set()\n",
    "print(set1)"
   ]
  },
  {
   "cell_type": "code",
   "execution_count": 23,
   "id": "f0449280-f891-402a-8792-5a867c27f273",
   "metadata": {},
   "outputs": [
    {
     "data": {
      "text/plain": [
       "{2, 5, 9.4, 'a', 'python'}"
      ]
     },
     "execution_count": 23,
     "metadata": {},
     "output_type": "execute_result"
    }
   ],
   "source": [
    "value_set={2,\"python\",\"a\",5,9.4}\n",
    "value_set"
   ]
  },
  {
   "cell_type": "code",
   "execution_count": 25,
   "id": "deb363fe-3ee5-465e-aa93-5e391611c33a",
   "metadata": {},
   "outputs": [
    {
     "ename": "TypeError",
     "evalue": "'set' object is not subscriptable",
     "output_type": "error",
     "traceback": [
      "\u001b[1;31m---------------------------------------------------------------------------\u001b[0m",
      "\u001b[1;31mTypeError\u001b[0m                                 Traceback (most recent call last)",
      "Cell \u001b[1;32mIn[25], line 1\u001b[0m\n\u001b[1;32m----> 1\u001b[0m value_set[\u001b[38;5;241m0\u001b[39m]\n",
      "\u001b[1;31mTypeError\u001b[0m: 'set' object is not subscriptable"
     ]
    }
   ],
   "source": [
    "value_set[0]"
   ]
  },
  {
   "cell_type": "code",
   "execution_count": 27,
   "id": "0d8c268b-d89d-4111-a19c-7a4913bfbd11",
   "metadata": {},
   "outputs": [
    {
     "ename": "AttributeError",
     "evalue": "'set' object has no attribute 'append'",
     "output_type": "error",
     "traceback": [
      "\u001b[1;31m---------------------------------------------------------------------------\u001b[0m",
      "\u001b[1;31mAttributeError\u001b[0m                            Traceback (most recent call last)",
      "Cell \u001b[1;32mIn[27], line 2\u001b[0m\n\u001b[0;32m      1\u001b[0m value_set\u001b[38;5;241m=\u001b[39m{\u001b[38;5;241m2\u001b[39m,\u001b[38;5;124m\"\u001b[39m\u001b[38;5;124mpython\u001b[39m\u001b[38;5;124m\"\u001b[39m,\u001b[38;5;124m\"\u001b[39m\u001b[38;5;124ma\u001b[39m\u001b[38;5;124m\"\u001b[39m,\u001b[38;5;241m5\u001b[39m,\u001b[38;5;241m9.4\u001b[39m}\n\u001b[1;32m----> 2\u001b[0m value_set\u001b[38;5;241m.\u001b[39mappend(\u001b[38;5;124m\"\u001b[39m\u001b[38;5;124msam\u001b[39m\u001b[38;5;124m\"\u001b[39m)\n\u001b[0;32m      3\u001b[0m value_set\n",
      "\u001b[1;31mAttributeError\u001b[0m: 'set' object has no attribute 'append'"
     ]
    }
   ],
   "source": [
    "value_set={2,\"python\",\"a\",5,9.4}\n",
    "value_set.append(\"sam\")\n",
    "value_set"
   ]
  },
  {
   "cell_type": "code",
   "execution_count": 31,
   "id": "164a4560-524b-4d49-9116-5926dd8f7c15",
   "metadata": {},
   "outputs": [
    {
     "ename": "TypeError",
     "evalue": "unsupported operand type(s) for +: 'set' and 'str'",
     "output_type": "error",
     "traceback": [
      "\u001b[1;31m---------------------------------------------------------------------------\u001b[0m",
      "\u001b[1;31mTypeError\u001b[0m                                 Traceback (most recent call last)",
      "Cell \u001b[1;32mIn[31], line 1\u001b[0m\n\u001b[1;32m----> 1\u001b[0m value_set1\u001b[38;5;241m=\u001b[39mvalue_set\u001b[38;5;241m+\u001b[39m\u001b[38;5;124m\"\u001b[39m\u001b[38;5;124msam\u001b[39m\u001b[38;5;124m\"\u001b[39m\n\u001b[0;32m      2\u001b[0m value_set1\n",
      "\u001b[1;31mTypeError\u001b[0m: unsupported operand type(s) for +: 'set' and 'str'"
     ]
    }
   ],
   "source": [
    "value_set1=value_set+\"sam\"\n",
    "value_set1"
   ]
  },
  {
   "cell_type": "code",
   "execution_count": 33,
   "id": "833b5282-68be-490b-b5c2-efb51c6276f2",
   "metadata": {},
   "outputs": [
    {
     "data": {
      "text/plain": [
       "{2, 5, 9.4, 'a', 'python', 'sam'}"
      ]
     },
     "execution_count": 33,
     "metadata": {},
     "output_type": "execute_result"
    }
   ],
   "source": [
    "value_set.add(\"sam\")\n",
    "value_set"
   ]
  },
  {
   "cell_type": "code",
   "execution_count": 35,
   "id": "951c9e74-3393-4247-914e-59f38b7be95b",
   "metadata": {},
   "outputs": [
    {
     "ename": "TypeError",
     "evalue": "set.add() takes exactly one argument (2 given)",
     "output_type": "error",
     "traceback": [
      "\u001b[1;31m---------------------------------------------------------------------------\u001b[0m",
      "\u001b[1;31mTypeError\u001b[0m                                 Traceback (most recent call last)",
      "Cell \u001b[1;32mIn[35], line 1\u001b[0m\n\u001b[1;32m----> 1\u001b[0m value_set\u001b[38;5;241m.\u001b[39madd(\u001b[38;5;124m\"\u001b[39m\u001b[38;5;124msam\u001b[39m\u001b[38;5;124m\"\u001b[39m,\u001b[38;5;124m\"\u001b[39m\u001b[38;5;124mB\u001b[39m\u001b[38;5;124m\"\u001b[39m)\n\u001b[0;32m      2\u001b[0m value_set\n",
      "\u001b[1;31mTypeError\u001b[0m: set.add() takes exactly one argument (2 given)"
     ]
    }
   ],
   "source": [
    "9value_set.add(\"sam\",\"B\")\n",
    "value_set"
   ]
  },
  {
   "cell_type": "code",
   "execution_count": 37,
   "id": "e823d5de-c5f4-4dd6-8c28-a301c248e31d",
   "metadata": {},
   "outputs": [
    {
     "data": {
      "text/plain": [
       "{2, 5, 9.4, 'a', 'sam'}"
      ]
     },
     "execution_count": 37,
     "metadata": {},
     "output_type": "execute_result"
    }
   ],
   "source": [
    "value_set.remove(\"python\")\n",
    "value_set"
   ]
  },
  {
   "cell_type": "code",
   "execution_count": 39,
   "id": "8ed32801-42dc-4d9e-b692-0ec64d3a31a8",
   "metadata": {},
   "outputs": [
    {
     "ename": "TypeError",
     "evalue": "set.remove() takes exactly one argument (2 given)",
     "output_type": "error",
     "traceback": [
      "\u001b[1;31m---------------------------------------------------------------------------\u001b[0m",
      "\u001b[1;31mTypeError\u001b[0m                                 Traceback (most recent call last)",
      "Cell \u001b[1;32mIn[39], line 1\u001b[0m\n\u001b[1;32m----> 1\u001b[0m value_set\u001b[38;5;241m.\u001b[39mremove(\u001b[38;5;124m\"\u001b[39m\u001b[38;5;124mpython\u001b[39m\u001b[38;5;124m\"\u001b[39m,\u001b[38;5;124m\"\u001b[39m\u001b[38;5;124msam\u001b[39m\u001b[38;5;124m\"\u001b[39m)\n\u001b[0;32m      2\u001b[0m value_set\n",
      "\u001b[1;31mTypeError\u001b[0m: set.remove() takes exactly one argument (2 given)"
     ]
    }
   ],
   "source": [
    "value_set.remove(\"python\",\"sam\")\n",
    "value_set"
   ]
  },
  {
   "cell_type": "code",
   "execution_count": 41,
   "id": "1756fa2a-35b5-4a88-bdaf-ba6f64d5a34c",
   "metadata": {},
   "outputs": [
    {
     "ename": "TypeError",
     "evalue": "set.remove() takes exactly one argument (2 given)",
     "output_type": "error",
     "traceback": [
      "\u001b[1;31m---------------------------------------------------------------------------\u001b[0m",
      "\u001b[1;31mTypeError\u001b[0m                                 Traceback (most recent call last)",
      "Cell \u001b[1;32mIn[41], line 1\u001b[0m\n\u001b[1;32m----> 1\u001b[0m value_set\u001b[38;5;241m.\u001b[39mremove(\u001b[38;5;124m\"\u001b[39m\u001b[38;5;124mpython\u001b[39m\u001b[38;5;124m\"\u001b[39m,\u001b[38;5;241m2\u001b[39m)\n\u001b[0;32m      2\u001b[0m value_set\n",
      "\u001b[1;31mTypeError\u001b[0m: set.remove() takes exactly one argument (2 given)"
     ]
    }
   ],
   "source": [
    "value_set.remove(\"python\",2)\n",
    "value_set"
   ]
  },
  {
   "cell_type": "code",
   "execution_count": 43,
   "id": "3289870e-3b2b-42b5-b717-55e18b22b6c3",
   "metadata": {},
   "outputs": [
    {
     "data": {
      "text/plain": [
       "{5, 9.4, 'a', 'sam'}"
      ]
     },
     "execution_count": 43,
     "metadata": {},
     "output_type": "execute_result"
    }
   ],
   "source": [
    "value_set.remove(2)\n",
    "value_set"
   ]
  },
  {
   "cell_type": "code",
   "execution_count": 45,
   "id": "f2ca4c65-33a7-46a4-88e5-8044ac862c24",
   "metadata": {},
   "outputs": [
    {
     "data": {
      "text/plain": [
       "{5, 9.4, 'sam'}"
      ]
     },
     "execution_count": 45,
     "metadata": {},
     "output_type": "execute_result"
    }
   ],
   "source": [
    "value_set.discard('a')\n",
    "value_set"
   ]
  },
  {
   "cell_type": "code",
   "execution_count": 47,
   "id": "f08b0476-2ee8-418b-a569-8bcd58a38bb7",
   "metadata": {},
   "outputs": [
    {
     "ename": "TypeError",
     "evalue": "set.discard() takes exactly one argument (0 given)",
     "output_type": "error",
     "traceback": [
      "\u001b[1;31m---------------------------------------------------------------------------\u001b[0m",
      "\u001b[1;31mTypeError\u001b[0m                                 Traceback (most recent call last)",
      "Cell \u001b[1;32mIn[47], line 1\u001b[0m\n\u001b[1;32m----> 1\u001b[0m value_set\u001b[38;5;241m.\u001b[39mdiscard()\n\u001b[0;32m      2\u001b[0m value_set\n",
      "\u001b[1;31mTypeError\u001b[0m: set.discard() takes exactly one argument (0 given)"
     ]
    }
   ],
   "source": [
    "value_set.discard(1)\n",
    "value_set"
   ]
  },
  {
   "cell_type": "code",
   "execution_count": 49,
   "id": "046178b0-21fa-49e6-887e-500a9f2c9071",
   "metadata": {},
   "outputs": [
    {
     "data": {
      "text/plain": [
       "{5, 9.4, 'sam'}"
      ]
     },
     "execution_count": 49,
     "metadata": {},
     "output_type": "execute_result"
    }
   ],
   "source": [
    "value_set.discard(20)\n",
    "value_set"
   ]
  },
  {
   "cell_type": "code",
   "execution_count": 51,
   "id": "b5d63ac9-5f45-4347-89a3-ecf6414f0cfc",
   "metadata": {},
   "outputs": [
    {
     "data": {
      "text/plain": [
       "set()"
      ]
     },
     "execution_count": 51,
     "metadata": {},
     "output_type": "execute_result"
    }
   ],
   "source": [
    "value_set.clear()\n",
    "value_set"
   ]
  },
  {
   "cell_type": "code",
   "execution_count": 55,
   "id": "05e69c61-3e86-4129-94d9-1b55c47b3090",
   "metadata": {},
   "outputs": [],
   "source": [
    "val1={1,2,3,4,5}\n",
    "del val1"
   ]
  },
  {
   "cell_type": "code",
   "execution_count": 14,
   "id": "90fc2424-d7a3-40fb-914a-b2bb83114f5d",
   "metadata": {},
   "outputs": [
    {
     "name": "stdin",
     "output_type": "stream",
     "text": [
      " 4\n",
      " 6\n",
      " 2\n",
      " 8\n",
      " 9\n"
     ]
    },
    {
     "data": {
      "text/plain": [
       "{2, 6, 8, 9}"
      ]
     },
     "execution_count": 14,
     "metadata": {},
     "output_type": "execute_result"
    }
   ],
   "source": [
    "value_set=set()\n",
    "n=int(input())\n",
    "for i in range(n):\n",
    "    value_set.add(int(input()))\n",
    "value_set"
   ]
  },
  {
   "cell_type": "code",
   "execution_count": 20,
   "id": "5afaf581-45f4-43f7-9671-8c50455ec17b",
   "metadata": {},
   "outputs": [
    {
     "name": "stdin",
     "output_type": "stream",
     "text": [
      "enter number 4\n"
     ]
    },
    {
     "name": "stdout",
     "output_type": "stream",
     "text": [
      "False\n"
     ]
    }
   ],
   "source": [
    "n=int(input(\"enter number\"))\n",
    "print(n in value_set)\n"
   ]
  },
  {
   "cell_type": "code",
   "execution_count": 22,
   "id": "b9ef5661-a584-4ae3-bd45-9f1ad930feb1",
   "metadata": {},
   "outputs": [
    {
     "name": "stdout",
     "output_type": "stream",
     "text": [
      "{'march', 'feb', 'april', 'jan'}\n",
      "{'mon', 'tue', 'sun', 'wed'}\n"
     ]
    }
   ],
   "source": [
    "set1={\"jan\",\"feb\",\"march\",\"april\"}\n",
    "set2={\"sun\",\"mon\",\"tue\",\"wed\"}\n",
    "print(set1)\n",
    "print(set2)"
   ]
  },
  {
   "cell_type": "code",
   "execution_count": 28,
   "id": "2afcdeda-873f-4476-9eda-37ce08f3c1f0",
   "metadata": {},
   "outputs": [
    {
     "name": "stdout",
     "output_type": "stream",
     "text": [
      "{'april', 'mon', 'sun', 'march', 'feb', 'jan', 'tue', 'wed'}\n"
     ]
    }
   ],
   "source": [
    "set1={\"jan\",\"feb\",\"march\",\"april\"}\n",
    "set2={\"sun\",\"mon\",\"tue\",\"wed\"}\n",
    "set3=set1.union(set2)\n",
    "print(set3)"
   ]
  },
  {
   "cell_type": "code",
   "execution_count": 30,
   "id": "21922ec6-d5a4-4730-918e-6a5fe43819e2",
   "metadata": {},
   "outputs": [
    {
     "name": "stdout",
     "output_type": "stream",
     "text": [
      "{'april', 'mon', 'sun', 'march', 'feb', 'jan', 'tue', 'wed'}\n"
     ]
    }
   ],
   "source": [
    "set1={\"jan\",\"feb\",\"march\",\"april\"}\n",
    "set2={\"sun\",\"mon\",\"tue\",\"wed\"}\n",
    "set3=set1 | set2\n",
    "print(set3)"
   ]
  },
  {
   "cell_type": "code",
   "execution_count": 34,
   "id": "6eec9723-635f-4994-a7bb-fa342adb978b",
   "metadata": {},
   "outputs": [
    {
     "data": {
      "text/plain": [
       "set()"
      ]
     },
     "execution_count": 34,
     "metadata": {},
     "output_type": "execute_result"
    }
   ],
   "source": [
    "set1={\"jan\",\"feb\",\"march\",\"april\"}\n",
    "set2={\"sun\",\"mon\",\"tue\",\"wed\"}\n",
    "set3=set1 |set2\n",
    "print(set3)"
   ]
  },
  {
   "cell_type": "code",
   "execution_count": 5,
   "id": "ac861f85-e6c5-4c5e-93e8-66397daa44ca",
   "metadata": {},
   "outputs": [
    {
     "name": "stdout",
     "output_type": "stream",
     "text": [
      "{'jan'}\n"
     ]
    }
   ],
   "source": [
    "set1={\"jan\",\"feb\",\"march\",\"april\"}\n",
    "set2={\"jan\",\"mon\",\"tue\",\"wed\"}\n",
    "common=set1 & set2\n",
    "print(common)"
   ]
  },
  {
   "cell_type": "code",
   "execution_count": 13,
   "id": "c5843091-252a-4064-a049-36083902356b",
   "metadata": {},
   "outputs": [
    {
     "name": "stdout",
     "output_type": "stream",
     "text": [
      "{'feb', 'april'}\n"
     ]
    }
   ],
   "source": [
    "set1={\"jan\",\"feb\",\"march\",\"april\"}\n",
    "set2={\"jan\",\"march\"}\n",
    "common=set1 - set2\n",
    "print(common)"
   ]
  },
  {
   "cell_type": "code",
   "execution_count": 9,
   "id": "4c18d328-e127-4460-a096-4001a5aa3f95",
   "metadata": {},
   "outputs": [
    {
     "data": {
      "text/plain": [
       "{'april', 'feb'}"
      ]
     },
     "execution_count": 9,
     "metadata": {},
     "output_type": "execute_result"
    }
   ],
   "source": [
    "x=set1.difference(set2)\n",
    "x"
   ]
  },
  {
   "cell_type": "code",
   "execution_count": 15,
   "id": "b77c13d1-80ce-43c1-a8f3-b113b30da690",
   "metadata": {},
   "outputs": [
    {
     "data": {
      "text/plain": [
       "True"
      ]
     },
     "execution_count": 15,
     "metadata": {},
     "output_type": "execute_result"
    }
   ],
   "source": [
    "set1>set2"
   ]
  },
  {
   "cell_type": "code",
   "execution_count": 1,
   "id": "33ba9889-4dbb-498f-a28b-86e968569c0f",
   "metadata": {},
   "outputs": [
    {
     "name": "stdout",
     "output_type": "stream",
     "text": [
      "True\n",
      "False\n",
      "False\n"
     ]
    }
   ],
   "source": [
    "set1={\"jan\",\"feb\",\"march\",\"april\"}\n",
    "set2={\"jan\",\"feb\"}\n",
    "print(set1>set2)\n",
    "print(set1<set2)\n",
    "print(set1==set2)"
   ]
  },
  {
   "cell_type": "code",
   "execution_count": null,
   "id": "3aeaac6c-bf83-458a-8d1c-539e1f6c04b3",
   "metadata": {},
   "outputs": [],
   "source": []
  }
 ],
 "metadata": {
  "kernelspec": {
   "display_name": "Python 3 (ipykernel)",
   "language": "python",
   "name": "python3"
  },
  "language_info": {
   "codemirror_mode": {
    "name": "ipython",
    "version": 3
   },
   "file_extension": ".py",
   "mimetype": "text/x-python",
   "name": "python",
   "nbconvert_exporter": "python",
   "pygments_lexer": "ipython3",
   "version": "3.12.4"
  }
 },
 "nbformat": 4,
 "nbformat_minor": 5
}
