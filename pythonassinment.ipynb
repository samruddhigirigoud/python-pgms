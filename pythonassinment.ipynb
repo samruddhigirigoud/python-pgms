{
  "nbformat": 4,
  "nbformat_minor": 0,
  "metadata": {
    "colab": {
      "provenance": []
    },
    "kernelspec": {
      "name": "python3",
      "display_name": "Python 3"
    },
    "language_info": {
      "name": "python"
    }
  },
  "cells": [
    {
      "cell_type": "markdown",
      "source": [
        "22/7*r*r\n",
        "L * b"
      ],
      "metadata": {
        "id": "Pjp19_FrJXH4"
      }
    },
    {
      "cell_type": "code",
      "execution_count": null,
      "metadata": {
        "id": "HcGpN8TWJLyI",
        "colab": {
          "base_uri": "https://localhost:8080/"
        },
        "outputId": "33d8287c-b2b1-4f85-9950-17c8ddb2d1cf"
      },
      "outputs": [
        {
          "output_type": "stream",
          "name": "stdout",
          "text": [
            "12.56\n",
            "156\n"
          ]
        }
      ],
      "source": [
        "class maths:\n",
        "  def Area(self, r=None, l=None, b=None):\n",
        "    if r is not None:\n",
        "       print(3.14*r*r)\n",
        "    elif l is not None and b is not None:\n",
        "       print(l*b)\n",
        "    else:\n",
        "      print(\"Invalid input. Please provide either radius (r) or length (l) and breadth (b).\")\n",
        "\n",
        "\n",
        "m1 = maths()\n",
        "m1.Area(r=2)\n",
        "m1.Area(l=12, b=13)\n"
      ]
    },
    {
      "cell_type": "code",
      "source": [
        "class Calculator:\n",
        "    def calculate(self, a, b=None, c=None):\n",
        "        if b is not None and c is None:\n",
        "            print(a % b)\n",
        "        elif b is not None and c is not None:\n",
        "            print(a ** (b ** c))\n",
        "        else:\n",
        "            print(\"Invalid arguments\")\n",
        "\n",
        "calculator = Calculator()\n",
        "calculator.calculate(10, 3)\n",
        "calculator.calculate(2, 3, 2)\n"
      ],
      "metadata": {
        "colab": {
          "base_uri": "https://localhost:8080/"
        },
        "id": "ax0SQfO2hFAq",
        "outputId": "1b5c471c-63b2-4513-ff79-6e035756b462"
      },
      "execution_count": null,
      "outputs": [
        {
          "output_type": "stream",
          "name": "stdout",
          "text": [
            "1\n",
            "512\n"
          ]
        }
      ]
    },
    {
      "cell_type": "code",
      "source": [
        "class RBI:\n",
        "    def Interest(self, rate_of_interest):\n",
        "        return f\"Base RBI Interest Rate: {rate_of_interest}\"\n",
        "\n",
        "class SBI(RBI):\n",
        "    def Interest(self, rate_of_interest):\n",
        "        return f\"SBI Interest: {rate_of_interest}\"\n",
        "\n",
        "class IndianBank(RBI):\n",
        "    def Interest(self, rate_of_interest):\n",
        "        return f\"IndianBank Interest: {rate_of_interest}\"\n",
        "\n",
        "class Canara(RBI):\n",
        "    def Interest(self, rate_of_interest):\n",
        "        return f\"Canara Bank Interest: {rate_of_interest}\"\n",
        "\n",
        "# Input from the user\n",
        "sbi_rate = float(input())\n",
        "indianbank_rate = float(input())\n",
        "canara_rate = float(input())\n",
        "\n",
        "# Create objects for each bank\n",
        "sbi = SBI()\n",
        "indianbank = IndianBank()\n",
        "canara = Canara()\n",
        "\n",
        "# Display the interest rates\n",
        "print(sbi.Interest(sbi_rate))\n",
        "print(indianbank.Interest(indianbank_rate))\n",
        "print(canara.Interest(canara_rate))\n"
      ],
      "metadata": {
        "colab": {
          "base_uri": "https://localhost:8080/"
        },
        "id": "8TbnWRD_hjR2",
        "outputId": "47fd80bb-7251-4cf8-84ce-9e6fd2650d67"
      },
      "execution_count": null,
      "outputs": [
        {
          "output_type": "stream",
          "name": "stdout",
          "text": [
            "SBI-specific interest calculation.\n",
            "Simple Interest: 100.0\n"
          ]
        }
      ]
    },
    {
      "cell_type": "code",
      "source": [
        "class Animal:\n",
        "    def breathe(self):\n",
        "        print(\"I breathe oxygen\")\n",
        "\n",
        "    def food(self):\n",
        "        print(\"I eat food\")\n",
        "\n",
        "class Herbivores(Animal):\n",
        "    def food(self, name):\n",
        "        print(f\"{name}: I am a Vegetarian\")\n",
        "\n",
        "class Carnivores(Animal):\n",
        "    def food(self, name):\n",
        "        print(f\"{name}: I am a Non Vegetarian\")\n",
        "\n",
        "class Omnivores(Animal):\n",
        "    def food(self, name):\n",
        "        print(f\"{name}: I eat both\")\n",
        "\n",
        "# Input for animals\n",
        "herbivore_name = input(\"Enter the name of a Herbivore: \")\n",
        "carnivore_name = input(\"Enter the name of a Carnivore: \")\n",
        "omnivore_name = input(\"Enter the name of an Omnivore: \")\n",
        "\n",
        "# Create objects for each animal type\n",
        "herbivore = Herbivores()\n",
        "carnivore = Carnivores()\n",
        "omnivore = Omnivores()\n",
        "\n",
        "# Call methods and print output\n",
        "herbivore.breathe()\n",
        "herbivore.food(herbivore_name)\n",
        "\n",
        "carnivore.breathe()\n",
        "carnivore.food(carnivore_name)\n",
        "\n",
        "omnivore.breathe()\n",
        "omnivore.food(omnivore_name)\n",
        "\n"
      ],
      "metadata": {
        "colab": {
          "base_uri": "https://localhost:8080/"
        },
        "id": "qq-LYbaGpSiv",
        "outputId": "4c532564-9bc9-4caf-d8e2-b45633071d72"
      },
      "execution_count": null,
      "outputs": [
        {
          "output_type": "stream",
          "name": "stdout",
          "text": [
            "Enter the name of a Herbivore: cat\n",
            "Enter the name of a Carnivore: dog\n",
            "Enter the name of an Omnivore: lion\n",
            "I breathe oxygen\n",
            "cat: I am a Vegetarian\n",
            "I breathe oxygen\n",
            "dog: I am a Non Vegetarian\n",
            "I breathe oxygen\n",
            "lion: I eat both\n"
          ]
        }
      ]
    },
    {
      "cell_type": "code",
      "source": [
        "class Polygon:\n",
        "    def area(self):\n",
        "        pass  # Base method to be overridden in subclasses\n",
        "\n",
        "class Rectangle(Polygon):\n",
        "    def area(self, length, breadth):\n",
        "        return length * breadth  # Area of rectangle: length × breadth\n",
        "\n",
        "class Triangle(Polygon):\n",
        "    def area(self, base, height):\n",
        "        return (base * height) // 2  # Area of triangle: 1/2 × base × height\n",
        "\n",
        "# Input: length and base, breadth and height\n",
        "length_base = int(input(\"Enter the length of the rectangle and base of the triangle: \"))\n",
        "breadth_height = int(input(\"Enter the breadth of the rectangle and height of the triangle: \"))\n",
        "\n",
        "# Create objects for Rectangle and Triangle\n",
        "rectangle = Rectangle()\n",
        "triangle = Triangle()\n",
        "\n",
        "# Calculate areas\n",
        "rect_area = rectangle.area(length_base, breadth_height)\n",
        "tri_area = triangle.area(length_base, breadth_height)\n",
        "\n",
        "# Output areas\n",
        "print(rect_area)  # Area of the rectangle\n",
        "print(tri_area)   # Area of the triangle\n"
      ],
      "metadata": {
        "id": "N4Z7CacNpmVl"
      },
      "execution_count": null,
      "outputs": []
    }
  ]
}