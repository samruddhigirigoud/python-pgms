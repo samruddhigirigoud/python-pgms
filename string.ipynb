{
 "cells": [
  {
   "cell_type": "code",
   "execution_count": 3,
   "id": "bf3194e8-6cb1-4e5c-8235-722204fb53ee",
   "metadata": {},
   "outputs": [
    {
     "name": "stdout",
     "output_type": "stream",
     "text": [
      "he\n",
      "llo world\n"
     ]
    }
   ],
   "source": [
    "a=\"hello world\"\n",
    "print(a[:2])\n",
    "print(a[2:])"
   ]
  },
  {
   "cell_type": "code",
   "execution_count": 11,
   "id": "904266fe-68bc-47d8-b22f-fd3a1dc652e9",
   "metadata": {},
   "outputs": [
    {
     "name": "stdout",
     "output_type": "stream",
     "text": [
      "dlrow olleh\n"
     ]
    },
    {
     "ename": "NameError",
     "evalue": "name 'str_rev' is not defined",
     "output_type": "error",
     "traceback": [
      "\u001b[1;31m---------------------------------------------------------------------------\u001b[0m",
      "\u001b[1;31mNameError\u001b[0m                                 Traceback (most recent call last)",
      "Cell \u001b[1;32mIn[11], line 3\u001b[0m\n\u001b[0;32m      1\u001b[0m \u001b[38;5;28mstr\u001b[39m\u001b[38;5;241m=\u001b[39m\u001b[38;5;124m\"\u001b[39m\u001b[38;5;124mhello world\u001b[39m\u001b[38;5;124m\"\u001b[39m\n\u001b[0;32m      2\u001b[0m \u001b[38;5;28mprint\u001b[39m(\u001b[38;5;28mstr\u001b[39m[::\u001b[38;5;241m-\u001b[39m\u001b[38;5;241m1\u001b[39m])\n\u001b[1;32m----> 3\u001b[0m r\u001b[38;5;241m=\u001b[39mstr_rev(\u001b[38;5;28mstr\u001b[39m)\n\u001b[0;32m      4\u001b[0m \u001b[38;5;28mprint\u001b[39m(r)\n",
      "\u001b[1;31mNameError\u001b[0m: name 'str_rev' is not defined"
     ]
    }
   ],
   "source": [
    "str=\"hello world\"\n",
    "print(str[::-1])\n",
    "r=str_rev(str)\n",
    "print(r)"
   ]
  },
  {
   "cell_type": "raw",
   "id": "73c3fefd-8b98-4d2d-9360-6d76d643a0b2",
   "metadata": {},
   "source": [
    "a=\"hello world\"\n",
    "print(a[::-2])"
   ]
  },
  {
   "cell_type": "code",
   "execution_count": null,
   "id": "15d41a2e-7776-47bd-9d76-778823b0271d",
   "metadata": {},
   "outputs": [],
   "source": []
  },
  {
   "cell_type": "code",
   "execution_count": 14,
   "id": "377de039-b8a4-4b7b-8e12-891292e99113",
   "metadata": {},
   "outputs": [
    {
     "name": "stdout",
     "output_type": "stream",
     "text": [
      "drwolh\n"
     ]
    }
   ],
   "source": [
    "a=\"hello world\"\n",
    "print(a[::-2])"
   ]
  },
  {
   "cell_type": "code",
   "execution_count": null,
   "id": "85b8e17d-e925-495b-b2e4-9bc58c408258",
   "metadata": {},
   "outputs": [],
   "source": [
    "a=int(input())\n",
    "if (a>0):\n",
    "    if(a%2==0):\n",
    "        print(\"number is even and positive\")\n",
    "    \n",
    "elif(a%2!=0) and (a<0):\n",
    "    \n",
    "        print(\"number is negative and odd\")\n",
    "    \n",
    "elif(a<0):\n",
    "    print(\"number is negative\")\n",
    "else:\n",
    "    print(\"zero\")\n",
    "    \n",
    "    "
   ]
  },
  {
   "cell_type": "code",
   "execution_count": null,
   "id": "e573abfe-3a8e-42ce-8bce-bc25ff4c95ea",
   "metadata": {},
   "outputs": [],
   "source": []
  }
 ],
 "metadata": {
  "kernelspec": {
   "display_name": "Python 3 (ipykernel)",
   "language": "python",
   "name": "python3"
  },
  "language_info": {
   "codemirror_mode": {
    "name": "ipython",
    "version": 3
   },
   "file_extension": ".py",
   "mimetype": "text/x-python",
   "name": "python",
   "nbconvert_exporter": "python",
   "pygments_lexer": "ipython3",
   "version": "3.12.4"
  }
 },
 "nbformat": 4,
 "nbformat_minor": 5
}
