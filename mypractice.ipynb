{
  "nbformat": 4,
  "nbformat_minor": 0,
  "metadata": {
    "colab": {
      "provenance": []
    },
    "kernelspec": {
      "name": "python3",
      "display_name": "Python 3"
    },
    "language_info": {
      "name": "python"
    }
  },
  "cells": [
    {
      "cell_type": "code",
      "execution_count": null,
      "metadata": {
        "colab": {
          "base_uri": "https://localhost:8080/"
        },
        "id": "8JrEYNdPcDSV",
        "outputId": "979d1bd9-8207-4256-819e-9e136cf38bc4"
      },
      "outputs": [
        {
          "output_type": "stream",
          "name": "stdout",
          "text": [
            "[['harry', 30], ['barry', 45], ['pallavi', 56], ['om', 67], ['maha', 67], ['santu', 89]]\n",
            "harry 30\n",
            "barry 45\n",
            "pallavi 56\n",
            "maha 67\n",
            "om 67\n",
            "santu 89\n"
          ]
        }
      ],
      "source": [
        "students = []\n",
        "a = [\"harry\",\"barry\",\"pallavi\",\"om\",\"maha\",\"santu\"]\n",
        "b = [30,45,56,67,67,89]\n",
        "for i in range(len(a)):\n",
        "   students.append([a[i],b[i]])\n",
        "print(students)\n",
        "d = sorted(students, key=lambda x:(x[1], x[0]))\n",
        "for students in d:\n",
        "  print(students[0], students[1])\n",
        "\n"
      ]
    },
    {
      "cell_type": "code",
      "source": [],
      "metadata": {
        "colab": {
          "base_uri": "https://localhost:8080/"
        },
        "id": "F5EgI6Dlc07F",
        "outputId": "abd81d1d-fdd3-445f-d3fa-ea471f780a65"
      },
      "execution_count": null,
      "outputs": [
        {
          "output_type": "stream",
          "name": "stdout",
          "text": [
            "5\n",
            "sandy,sdjf,a,DS,DF,SD\n",
            "12\n",
            "32\n",
            "34\n",
            "45\n",
            "56\n",
            "7\n",
            "787\n",
            "87\n",
            "98\n",
            "32\n"
          ]
        }
      ]
    },
    {
      "cell_type": "code",
      "source": [
        "def show_menu():\n",
        "  print(\"list of application\")\n",
        "  print(\"1.view task\")\n",
        "  print(\"2.add task\")\n",
        "  print(\"mark task as complete\")\n",
        "  print(\"remove task\")\n",
        "  print(\"exit\")\n",
        "def view_tasks(task):\n",
        "  if not task:\n",
        "    print(\"your to do list is empty\")\n",
        "  else:\n",
        "    print(\"in current task\")\n",
        "    for idx, task in enumerate(task, 1):\n",
        "      print(f\"{idx}.{task}\")\n",
        "\n",
        "def add_task(task):\n",
        "  task = input(\"enter your task:\")\n",
        "  task.append(task)\n",
        "  print(\"task added successfully\")\n",
        "def mark_task_completed(task):\n",
        "  view_tasks(task)\n",
        "  try:\n",
        "     task_number = int(input(\"enter the task number to mark as completed:\"))\n",
        "     if task_number < 1 or task_number > len(task):\n",
        "       print(\"invalid number\")\n",
        "     else:\n",
        "         task = task.pop(task_number - 1)\n",
        "         print(\"task marked as completed\")\n",
        "  except ValueError:\n",
        "    print(\"invalid input\")\n",
        "  def remove_task(task):\n",
        "    view_tasks(task)\n",
        "    try:\n",
        "       task_number = int(input(\"enter the task number to remove:\"))\n",
        "       if task_number < 1 or task_number > len(task):\n",
        "            print(\"invalid number\")\n",
        "       else:\n",
        "            task = tasks.pop(task_number - 1)\n",
        "            print(\"task removed successfully\")\n",
        "    except ValueError:\n",
        "      print(\"invalid input\")\n",
        "\n",
        "\n",
        "\n",
        "  def main():\n",
        "\n",
        "    tasks = []\n",
        "  while True:\n",
        "    show_menu()\n",
        "    try:\n",
        "        option = int(input(\"enter your option:\"))\n",
        "        if option == 1:\n",
        "            view_tasks(tasks)\n",
        "        elif option == 2:\n",
        "            add_task(tasks)\n",
        "        elif option == 3:\n",
        "            mark_task_completed(tasks)\n",
        "        elif option == 4:\n",
        "            remove_task(tasks)\n",
        "        elif option == 5:\n",
        "            print(\"Goodbye!\")\n",
        "            break\n",
        "        else:\n",
        "            print(\"Invalid choice! Please select between 1 and 5.\")\n",
        "    except ValueError:\n",
        "            print(\"Invalid input! Please enter a number.\")\n",
        "\n",
        "if __name__ == \"__main__\":\n",
        "    main()"
      ],
      "metadata": {
        "id": "hGwwFu4rdq86",
        "colab": {
          "base_uri": "https://localhost:8080/",
          "height": 419
        },
        "outputId": "cb59f8d6-d1bf-40f7-8c08-e244e45f0e6b"
      },
      "execution_count": null,
      "outputs": [
        {
          "name": "stdout",
          "output_type": "stream",
          "text": [
            "list of application\n",
            "1.view task\n",
            "2.add task\n",
            "mark task as complete\n",
            "remove task\n",
            "exit\n",
            "enter your option:1\n"
          ]
        },
        {
          "output_type": "error",
          "ename": "NameError",
          "evalue": "name 'tasks' is not defined",
          "traceback": [
            "\u001b[0;31m---------------------------------------------------------------------------\u001b[0m",
            "\u001b[0;31mNameError\u001b[0m                                 Traceback (most recent call last)",
            "\u001b[0;32m<ipython-input-37-f4695d89047d>\u001b[0m in \u001b[0;36m<cell line: 68>\u001b[0;34m()\u001b[0m\n\u001b[1;32m     67\u001b[0m \u001b[0;34m\u001b[0m\u001b[0m\n\u001b[1;32m     68\u001b[0m \u001b[0;32mif\u001b[0m \u001b[0m__name__\u001b[0m \u001b[0;34m==\u001b[0m \u001b[0;34m\"__main__\"\u001b[0m\u001b[0;34m:\u001b[0m\u001b[0;34m\u001b[0m\u001b[0;34m\u001b[0m\u001b[0m\n\u001b[0;32m---> 69\u001b[0;31m     \u001b[0mmain\u001b[0m\u001b[0;34m(\u001b[0m\u001b[0;34m)\u001b[0m\u001b[0;34m\u001b[0m\u001b[0;34m\u001b[0m\u001b[0m\n\u001b[0m",
            "\u001b[0;32m<ipython-input-28-b3d0b4b49e15>\u001b[0m in \u001b[0;36mmain\u001b[0;34m()\u001b[0m\n\u001b[1;32m     13\u001b[0m         \u001b[0moption\u001b[0m \u001b[0;34m=\u001b[0m \u001b[0mint\u001b[0m\u001b[0;34m(\u001b[0m\u001b[0minput\u001b[0m\u001b[0;34m(\u001b[0m\u001b[0;34m\"enter your option:\"\u001b[0m\u001b[0;34m)\u001b[0m\u001b[0;34m)\u001b[0m\u001b[0;34m\u001b[0m\u001b[0;34m\u001b[0m\u001b[0m\n\u001b[1;32m     14\u001b[0m         \u001b[0;32mif\u001b[0m \u001b[0moption\u001b[0m \u001b[0;34m==\u001b[0m \u001b[0;36m1\u001b[0m\u001b[0;34m:\u001b[0m\u001b[0;34m\u001b[0m\u001b[0;34m\u001b[0m\u001b[0m\n\u001b[0;32m---> 15\u001b[0;31m             \u001b[0mview_tasks\u001b[0m\u001b[0;34m(\u001b[0m\u001b[0mtasks\u001b[0m\u001b[0;34m)\u001b[0m\u001b[0;34m\u001b[0m\u001b[0;34m\u001b[0m\u001b[0m\n\u001b[0m\u001b[1;32m     16\u001b[0m         \u001b[0;32melif\u001b[0m \u001b[0mchoice\u001b[0m \u001b[0;34m==\u001b[0m \u001b[0;36m2\u001b[0m\u001b[0;34m:\u001b[0m\u001b[0;34m\u001b[0m\u001b[0;34m\u001b[0m\u001b[0m\n\u001b[1;32m     17\u001b[0m             \u001b[0madd_task\u001b[0m\u001b[0;34m(\u001b[0m\u001b[0mtasks\u001b[0m\u001b[0;34m)\u001b[0m\u001b[0;34m\u001b[0m\u001b[0;34m\u001b[0m\u001b[0m\n",
            "\u001b[0;31mNameError\u001b[0m: name 'tasks' is not defined"
          ]
        }
      ]
    },
    {
      "cell_type": "code",
      "source": [
        "def factorial(n):\n",
        "  if(n==0 or n ==1):\n",
        "    return 1\n",
        "  else:\n",
        "    return n * factorial(n-1)\n",
        "print(factorial(3))\n"
      ],
      "metadata": {
        "id": "bqmkCKPd-I88",
        "colab": {
          "base_uri": "https://localhost:8080/"
        },
        "outputId": "81613c68-0954-45d0-d042-ee5db901b83e"
      },
      "execution_count": null,
      "outputs": [
        {
          "output_type": "stream",
          "name": "stdout",
          "text": [
            "6\n"
          ]
        }
      ]
    },
    {
      "cell_type": "code",
      "source": [
        "def fibo(n):\n",
        "  if n <= 1:\n",
        "    return n\n",
        "  else:\n",
        "    return fibo(n-1) + fibo(n-2)\n",
        "print(fibo(7))"
      ],
      "metadata": {
        "colab": {
          "base_uri": "https://localhost:8080/"
        },
        "id": "ATVwtw36SdCJ",
        "outputId": "334f2888-f209-4c36-a2ac-935f3bdedc1a"
      },
      "execution_count": null,
      "outputs": [
        {
          "output_type": "stream",
          "name": "stdout",
          "text": [
            "13\n"
          ]
        }
      ]
    },
    {
      "cell_type": "code",
      "source": [
        "import numpy as np\n",
        "arr = np.array([1, 2, 3])\n",
        "newarr = arr.astype(float)\n",
        "print(newarr)\n",
        "print(newarr.dtype)"
      ],
      "metadata": {
        "id": "oQwJk3f4VuPS",
        "colab": {
          "base_uri": "https://localhost:8080/"
        },
        "outputId": "c1967f6a-ccb4-4e60-b85d-88eae8a69b15"
      },
      "execution_count": null,
      "outputs": [
        {
          "output_type": "stream",
          "name": "stdout",
          "text": [
            "[1. 2. 3.]\n",
            "float64\n"
          ]
        }
      ]
    },
    {
      "cell_type": "code",
      "source": [
        "import pandas as pd\n",
        "data = {\n",
        "    'Name': ['Alice', 'Bob', 'Charlie'],\n",
        "    'Age': [25, 30, 35],\n",
        "    'City': ['New York', 'Los Angeles', 'Chicago']\n",
        "}\n",
        "\n",
        "df = pd.DataFrame(data)\n",
        "\n",
        "print(df)\n"
      ],
      "metadata": {
        "colab": {
          "base_uri": "https://localhost:8080/"
        },
        "id": "omwyKD6qQENC",
        "outputId": "34102943-39ee-44c3-e4ca-1463dbb6120e"
      },
      "execution_count": null,
      "outputs": [
        {
          "output_type": "stream",
          "name": "stdout",
          "text": [
            "      Name  Age         City\n",
            "0    Alice   25     New York\n",
            "1      Bob   30  Los Angeles\n",
            "2  Charlie   35      Chicago\n"
          ]
        }
      ]
    },
    {
      "cell_type": "code",
      "source": [],
      "metadata": {
        "id": "QWT8jTCBc3EZ"
      },
      "execution_count": null,
      "outputs": []
    }
  ]
}