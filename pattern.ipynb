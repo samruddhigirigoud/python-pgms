{
 "cells": [
  {
   "cell_type": "code",
   "execution_count": 7,
   "id": "d4761f27-bc3b-48c0-9e49-e8ce1249f7a0",
   "metadata": {},
   "outputs": [
    {
     "name": "stdout",
     "output_type": "stream",
     "text": [
      "****\n",
      "  ****\n",
      "    ****\n",
      "      ****\n"
     ]
    }
   ],
   "source": [
    "for i in range(4):\n",
    "    print(\" \"*(i*2)+\"*\"*4)"
   ]
  },
  {
   "cell_type": "code",
   "execution_count": 3,
   "id": "5459168f-13ce-4d3b-ad2e-a6c27816d1a5",
   "metadata": {},
   "outputs": [
    {
     "name": "stdin",
     "output_type": "stream",
     "text": [
      "enter number 4\n"
     ]
    },
    {
     "name": "stdout",
     "output_type": "stream",
     "text": [
      "****\n",
      "****\n",
      "****\n",
      "****\n"
     ]
    }
   ],
   "source": [
    "n=int(input(\"enter number\"))\n",
    "def patt(n):\n",
    "    for i in range(n):\n",
    "        print(\"\"+\"*\"*4)\n",
    "patt(n)\n"
   ]
  },
  {
   "cell_type": "code",
   "execution_count": 29,
   "id": "beb4e46d-a926-4ae1-9dba-425bf11fcdb9",
   "metadata": {},
   "outputs": [
    {
     "name": "stdin",
     "output_type": "stream",
     "text": [
      "enter number 4\n"
     ]
    },
    {
     "name": "stdout",
     "output_type": "stream",
     "text": [
      "****\n",
      "  ****\n",
      "    ****\n",
      "      ****\n"
     ]
    }
   ],
   "source": [
    "n=int(input(\"enter number\"))\n",
    "def patt(n):\n",
    "    for i in range(n):\n",
    "        for j in range(i*2):\n",
    "            print(\" \",end=\"\")\n",
    "        for k in range(n):\n",
    "            print(\"*\",end=\"\")\n",
    "        print()\n",
    "patt(n)\n"
   ]
  },
  {
   "cell_type": "code",
   "execution_count": 37,
   "id": "64b562bd-4b02-48e2-870b-29c92935b22b",
   "metadata": {},
   "outputs": [
    {
     "name": "stdin",
     "output_type": "stream",
     "text": [
      "enter number 5\n"
     ]
    },
    {
     "name": "stdout",
     "output_type": "stream",
     "text": [
      "     *\n",
      "    * *\n",
      "   * * *\n",
      "  * * * *\n",
      " * * * * *\n"
     ]
    }
   ],
   "source": [
    "n=int(input(\"enter number\"))\n",
    "def patt(n):\n",
    "    for i in range(n):\n",
    "        for j in range(n-i-1):\n",
    "            print(\" \",end=\"\")\n",
    "        for k in range(i+1):\n",
    "            print(\" \"+\"*\",end=\"\")\n",
    "        print()\n",
    "patt(n)\n"
   ]
  },
  {
   "cell_type": "code",
   "execution_count": 45,
   "id": "49d5ef28-b0c9-469d-8061-ea2d0319b50f",
   "metadata": {},
   "outputs": [
    {
     "name": "stdout",
     "output_type": "stream",
     "text": [
      " *"
     ]
    }
   ],
   "source": [
    "print(\" \"+\"*\",end=\"\")"
   ]
  },
  {
   "cell_type": "code",
   "execution_count": 9,
   "id": "1afed9a0-8b91-4fc6-855f-2b27ef9b7f37",
   "metadata": {},
   "outputs": [
    {
     "name": "stdin",
     "output_type": "stream",
     "text": [
      "enter number 4\n"
     ]
    },
    {
     "name": "stdout",
     "output_type": "stream",
     "text": [
      "* * * * \n",
      "* * * * \n",
      "* * * * \n",
      "* * * * \n"
     ]
    }
   ],
   "source": [
    "n=int(input(\"enter number\"))\n",
    "def patt(n):\n",
    "    for i in range(n):\n",
    "         for j in range(1,n+1):\n",
    "             print(\"*\",end=\" \")\n",
    "         print()\n",
    "patt(n)"
   ]
  },
  {
   "cell_type": "code",
   "execution_count": 13,
   "id": "8b8731e6-643e-44a6-b0bb-70bde50f9793",
   "metadata": {},
   "outputs": [
    {
     "name": "stdin",
     "output_type": "stream",
     "text": [
      "enter number 4\n"
     ]
    },
    {
     "name": "stdout",
     "output_type": "stream",
     "text": [
      "* \n",
      "* * \n",
      "* * * \n",
      "* * * * \n"
     ]
    }
   ],
   "source": [
    "n=int(input(\"enter number\"))\n",
    "def patt(n):\n",
    "    for i in range(1,n+1):\n",
    "         for j in range(1,i+1):\n",
    "             print(\"*\",end=\" \")\n",
    "         print()\n",
    "patt(n)"
   ]
  },
  {
   "cell_type": "code",
   "execution_count": 75,
   "id": "5d3faaa8-e99c-4a50-93c5-a8025aec7fe4",
   "metadata": {},
   "outputs": [
    {
     "name": "stdin",
     "output_type": "stream",
     "text": [
      "enter number 4\n"
     ]
    },
    {
     "ename": "TypeError",
     "evalue": "'int' object is not iterable",
     "output_type": "error",
     "traceback": [
      "\u001b[1;31m---------------------------------------------------------------------------\u001b[0m",
      "\u001b[1;31mTypeError\u001b[0m                                 Traceback (most recent call last)",
      "Cell \u001b[1;32mIn[75], line 7\u001b[0m\n\u001b[0;32m      5\u001b[0m              \u001b[38;5;28mprint\u001b[39m(\u001b[38;5;124m\"\u001b[39m\u001b[38;5;124m*\u001b[39m\u001b[38;5;124m\"\u001b[39m,end\u001b[38;5;241m=\u001b[39m\u001b[38;5;124m\"\u001b[39m\u001b[38;5;124m \u001b[39m\u001b[38;5;124m\"\u001b[39m)\n\u001b[0;32m      6\u001b[0m          \u001b[38;5;28mprint\u001b[39m()\n\u001b[1;32m----> 7\u001b[0m patt(n)\n",
      "Cell \u001b[1;32mIn[75], line 4\u001b[0m, in \u001b[0;36mpatt\u001b[1;34m(n)\u001b[0m\n\u001b[0;32m      2\u001b[0m \u001b[38;5;28;01mdef\u001b[39;00m \u001b[38;5;21mpatt\u001b[39m(n):\n\u001b[0;32m      3\u001b[0m     \u001b[38;5;28;01mfor\u001b[39;00m i \u001b[38;5;129;01min\u001b[39;00m \u001b[38;5;28mrange\u001b[39m(n\u001b[38;5;241m+\u001b[39m\u001b[38;5;241m1\u001b[39m):\n\u001b[1;32m----> 4\u001b[0m          \u001b[38;5;28;01mfor\u001b[39;00m j \u001b[38;5;129;01min\u001b[39;00m (n\u001b[38;5;241m-\u001b[39mi\u001b[38;5;241m+\u001b[39m\u001b[38;5;241m1\u001b[39m):\n\u001b[0;32m      5\u001b[0m              \u001b[38;5;28mprint\u001b[39m(\u001b[38;5;124m\"\u001b[39m\u001b[38;5;124m*\u001b[39m\u001b[38;5;124m\"\u001b[39m,end\u001b[38;5;241m=\u001b[39m\u001b[38;5;124m\"\u001b[39m\u001b[38;5;124m \u001b[39m\u001b[38;5;124m\"\u001b[39m)\n\u001b[0;32m      6\u001b[0m          \u001b[38;5;28mprint\u001b[39m()\n",
      "\u001b[1;31mTypeError\u001b[0m: 'int' object is not iterable"
     ]
    }
   ],
   "source": [
    "n=int(input(\"enter number\"))\n",
    "def patt(n):\n",
    "    for i in range(n+1):\n",
    "         for j in (n-i+1):\n",
    "             print(\"*\",end=\" \")\n",
    "         print()\n",
    "patt(n)"
   ]
  },
  {
   "cell_type": "code",
   "execution_count": 85,
   "id": "5c7294e3-852a-4c6d-9a8f-1fbdfba4b4d7",
   "metadata": {},
   "outputs": [
    {
     "name": "stdin",
     "output_type": "stream",
     "text": [
      "enter number 4\n"
     ]
    },
    {
     "name": "stdout",
     "output_type": "stream",
     "text": [
      "     *\n",
      "    **\n",
      "   ***\n",
      "  ****\n",
      " *****\n"
     ]
    }
   ],
   "source": [
    "n=int(input(\"enter number\"))\n",
    "def patt(n):\n",
    "    for i in range(n+1):\n",
    "         for j in range(n-i+1):\n",
    "             print(\" \",end=\"\")\n",
    "         for k in range(i+1):\n",
    "             print(\"*\",end=\"\")\n",
    "             \n",
    "         print()\n",
    "patt(n)"
   ]
  },
  {
   "cell_type": "code",
   "execution_count": 129,
   "id": "f8c4020c-cc64-4fd4-9325-3dad74e22f33",
   "metadata": {},
   "outputs": [
    {
     "name": "stdin",
     "output_type": "stream",
     "text": [
      "enter number 4\n"
     ]
    },
    {
     "name": "stdout",
     "output_type": "stream",
     "text": [
      "* * * * * * \n",
      "* * * * * * \n",
      "* * * * * * \n",
      "* * * * * * \n"
     ]
    }
   ],
   "source": [
    "n=int(input(\"enter number\"))\n",
    "def patt(n):\n",
    "    for i in range(n):\n",
    "         for j in range(n+2):\n",
    "             print(\"*\",end=\" \")\n",
    "         print()\n",
    "patt(n)"
   ]
  },
  {
   "cell_type": "code",
   "execution_count": 7,
   "id": "c26a8f58-c14b-4ef3-8145-c3af8c06ae6e",
   "metadata": {},
   "outputs": [
    {
     "name": "stdin",
     "output_type": "stream",
     "text": [
      "enter number 4\n"
     ]
    },
    {
     "name": "stdout",
     "output_type": "stream",
     "text": [
      "****\n",
      "*  *\n",
      "*  *\n",
      "****\n"
     ]
    }
   ],
   "source": [
    "n=int(input(\"enter number\"))\n",
    "def patt(n):\n",
    "    for i in range(n):\n",
    "         for j in range(n):\n",
    "             if j==0 or j==n-1 or i==0 or i==n-1:\n",
    "                 print(\"*\",end=\"\")\n",
    "             else:\n",
    "                 print(\" \",end=\"\")\n",
    "             \n",
    "         print()\n",
    "patt(n)"
   ]
  },
  {
   "cell_type": "code",
   "execution_count": null,
   "id": "ec674ace-c55e-4015-a9f8-3013a7e29492",
   "metadata": {},
   "outputs": [],
   "source": []
  }
 ],
 "metadata": {
  "kernelspec": {
   "display_name": "Python 3 (ipykernel)",
   "language": "python",
   "name": "python3"
  },
  "language_info": {
   "codemirror_mode": {
    "name": "ipython",
    "version": 3
   },
   "file_extension": ".py",
   "mimetype": "text/x-python",
   "name": "python",
   "nbconvert_exporter": "python",
   "pygments_lexer": "ipython3",
   "version": "3.12.4"
  }
 },
 "nbformat": 4,
 "nbformat_minor": 5
}
