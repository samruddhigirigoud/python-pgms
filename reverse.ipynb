{
 "cells": [
  {
   "cell_type": "code",
   "execution_count": 13,
   "id": "09f9dfc6-3337-4ece-b61e-6eea319392db",
   "metadata": {},
   "outputs": [
    {
     "name": "stdin",
     "output_type": "stream",
     "text": [
      " dsf\n"
     ]
    },
    {
     "name": "stdout",
     "output_type": "stream",
     "text": [
      "fsd\n",
      "not palindrome\n"
     ]
    }
   ],
   "source": [
    "n=str(input())\n",
    "rev=\"\"\n",
    "for i in n:\n",
    "    rev=i+rev\n",
    "print(rev)\n",
    "if n==rev:\n",
    "    print(\"number is palindrome\",n)\n",
    "else:\n",
    "    print(\"not palindrome\")\n",
    "\n"
   ]
  },
  {
   "cell_type": "code",
   "execution_count": null,
   "id": "2dbdbfe8-18a8-422c-a8f5-08939c57d2e5",
   "metadata": {},
   "outputs": [],
   "source": []
  }
 ],
 "metadata": {
  "kernelspec": {
   "display_name": "Python 3 (ipykernel)",
   "language": "python",
   "name": "python3"
  },
  "language_info": {
   "codemirror_mode": {
    "name": "ipython",
    "version": 3
   },
   "file_extension": ".py",
   "mimetype": "text/x-python",
   "name": "python",
   "nbconvert_exporter": "python",
   "pygments_lexer": "ipython3",
   "version": "3.12.4"
  }
 },
 "nbformat": 4,
 "nbformat_minor": 5
}
