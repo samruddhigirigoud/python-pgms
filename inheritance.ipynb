{
 "cells": [
  {
   "cell_type": "code",
   "execution_count": 1,
   "id": "ec928623-0d1d-40e7-bd59-08327c1c4d95",
   "metadata": {},
   "outputs": [
    {
     "name": "stdout",
     "output_type": "stream",
     "text": [
      "100km\n",
      "engine is powerful\n"
     ]
    }
   ],
   "source": [
    "class car:\n",
    "    def speed(self):\n",
    "        print(\"100km\")\n",
    "class audi(car):\n",
    "    def engine(self):\n",
    "        print(\"engine is powerful\")\n",
    "c=audi()\n",
    "c.speed()\n",
    "c.engine()"
   ]
  },
  {
   "cell_type": "code",
   "execution_count": 23,
   "id": "24939ac0-5f31-4803-ac6c-0688c30fb3f3",
   "metadata": {},
   "outputs": [
    {
     "name": "stdout",
     "output_type": "stream",
     "text": [
      "meow meow\n",
      "bow bow\n"
     ]
    }
   ],
   "source": [
    "class animal:\n",
    "    def sound(self):\n",
    "        print(\"generic sound\")\n",
    "class dog(animal):\n",
    "    def sound(self):\n",
    "        print(\"bow bow\")\n",
    "class cat(animal):\n",
    "    def sound(self):\n",
    "        print(\"meow meow\")\n",
    "a=cat()\n",
    "b=dog()\n",
    "#c=animal()\n",
    "a.sound()\n",
    "b.sound()\n",
    "#c.sound()\n",
    "        "
   ]
  },
  {
   "cell_type": "code",
   "execution_count": 25,
   "id": "5c5bed5e-1b90-4cac-8ac8-5fd9d3b034db",
   "metadata": {},
   "outputs": [
    {
     "ename": "TypeError",
     "evalue": "Cannot create a consistent method resolution\norder (MRO) for bases animal, dog",
     "output_type": "error",
     "traceback": [
      "\u001b[1;31m---------------------------------------------------------------------------\u001b[0m",
      "\u001b[1;31mTypeError\u001b[0m                                 Traceback (most recent call last)",
      "Cell \u001b[1;32mIn[25], line 7\u001b[0m\n\u001b[0;32m      5\u001b[0m     \u001b[38;5;28;01mdef\u001b[39;00m \u001b[38;5;21msound\u001b[39m(\u001b[38;5;28mself\u001b[39m):\n\u001b[0;32m      6\u001b[0m         \u001b[38;5;28mprint\u001b[39m(\u001b[38;5;124m\"\u001b[39m\u001b[38;5;124mbow bow\u001b[39m\u001b[38;5;124m\"\u001b[39m)\n\u001b[1;32m----> 7\u001b[0m \u001b[38;5;28;01mclass\u001b[39;00m \u001b[38;5;21;01mcat\u001b[39;00m(animal,dog):\n\u001b[0;32m      8\u001b[0m     \u001b[38;5;28;01mdef\u001b[39;00m \u001b[38;5;21msound\u001b[39m(\u001b[38;5;28mself\u001b[39m):\n\u001b[0;32m      9\u001b[0m         \u001b[38;5;28mprint\u001b[39m(\u001b[38;5;124m\"\u001b[39m\u001b[38;5;124mmeow meow\u001b[39m\u001b[38;5;124m\"\u001b[39m)\n",
      "\u001b[1;31mTypeError\u001b[0m: Cannot create a consistent method resolution\norder (MRO) for bases animal, dog"
     ]
    }
   ],
   "source": [
    "class animal:\n",
    "    def sound(self):\n",
    "        print(\"generic sound\")\n",
    "class dog(animal):\n",
    "    def sound(self):\n",
    "        print(\"bow bow\")\n",
    "class cat(animal,dog):\n",
    "    def sound(self):\n",
    "        print(\"meow meow\")\n",
    "a=cat()\n",
    "#b=dog()\n",
    "#c=animal()S\n",
    "a.sound()\n",
    "a.sound()\n",
    "#c.sound()\n",
    "        "
   ]
  },
  {
   "cell_type": "code",
   "execution_count": 41,
   "id": "f243ebad-b167-4f65-accd-cca38ac8e3b1",
   "metadata": {},
   "outputs": [
    {
     "name": "stdout",
     "output_type": "stream",
     "text": [
      "generic sound\n",
      "bow bow\n",
      "meow meow\n"
     ]
    }
   ],
   "source": [
    "class animal:\n",
    "    def sound(self):\n",
    "        print(\"generic sound\")\n",
    "class dog(animal):\n",
    "    def sound1(self):\n",
    "        print(\"bow bow\")\n",
    "class cat(animal):\n",
    "    def sound3(self):\n",
    "        print(\"meow meow\")\n",
    "a=cat()\n",
    "#b=dog()\n",
    "#c=animal()\n",
    "animal.sound(a)\n",
    "dog.sound1(a)\n",
    "cat.sound3(a)\n",
    "#c.sound()"
   ]
  },
  {
   "cell_type": "code",
   "execution_count": 43,
   "id": "fdb8a0a8-7b6d-434c-946d-4c49e3b2f835",
   "metadata": {},
   "outputs": [
    {
     "ename": "TypeError",
     "evalue": "Cannot create a consistent method resolution\norder (MRO) for bases animal, dog",
     "output_type": "error",
     "traceback": [
      "\u001b[1;31m---------------------------------------------------------------------------\u001b[0m",
      "\u001b[1;31mTypeError\u001b[0m                                 Traceback (most recent call last)",
      "Cell \u001b[1;32mIn[43], line 7\u001b[0m\n\u001b[0;32m      5\u001b[0m     \u001b[38;5;28;01mdef\u001b[39;00m \u001b[38;5;21msound\u001b[39m(\u001b[38;5;28mself\u001b[39m):\n\u001b[0;32m      6\u001b[0m         \u001b[38;5;28mprint\u001b[39m(\u001b[38;5;124m\"\u001b[39m\u001b[38;5;124mbow bow\u001b[39m\u001b[38;5;124m\"\u001b[39m)\n\u001b[1;32m----> 7\u001b[0m \u001b[38;5;28;01mclass\u001b[39;00m \u001b[38;5;21;01mcat\u001b[39;00m(animal,dog):\n\u001b[0;32m      8\u001b[0m     \u001b[38;5;28;01mdef\u001b[39;00m \u001b[38;5;21msound\u001b[39m(\u001b[38;5;28mself\u001b[39m):\n\u001b[0;32m      9\u001b[0m         \u001b[38;5;28mprint\u001b[39m(\u001b[38;5;124m\"\u001b[39m\u001b[38;5;124mmeow meow\u001b[39m\u001b[38;5;124m\"\u001b[39m)\n",
      "\u001b[1;31mTypeError\u001b[0m: Cannot create a consistent method resolution\norder (MRO) for bases animal, dog"
     ]
    }
   ],
   "source": [
    "class animal:\n",
    "    def sound(self):\n",
    "        print(\"generic sound\")\n",
    "class dog(animal):\n",
    "    def sound(self):\n",
    "        print(\"bow bow\")\n",
    "class cat(animal):\n",
    "    def sound(self):\n",
    "        print(\"meow meow\")\n",
    "c=cat()\n",
    "animal.sound(c)\n",
    "dog.sound(c)\n",
    "cat.sound(c)"
   ]
  },
  {
   "cell_type": "code",
   "execution_count": 5,
   "id": "060fb22f-06f9-4bb3-a131-9f05e5142ae7",
   "metadata": {},
   "outputs": [
    {
     "name": "stdin",
     "output_type": "stream",
     "text": [
      "enter number 4\n",
      "enter number 6\n"
     ]
    },
    {
     "name": "stdout",
     "output_type": "stream",
     "text": [
      "mul= 24\n",
      "div= 0.6666666666666666\n",
      "sum= 10\n",
      "substract= -2\n"
     ]
    }
   ],
   "source": [
    "\n",
    "n1=int(input(\"enter number\"))\n",
    "n2=int(input(\"enter number\"))\n",
    "\n",
    "\n",
    "class calculator:\n",
    "    def add(self,n1,n2):\n",
    "        self.n1=n1\n",
    "        self.n2=n2\n",
    "        s=n1+n2\n",
    "        print(\"sum=\",s)\n",
    "    def sub(self,n1,n2):\n",
    "        s1=n1-n2\n",
    "        print(\"substract=\",s1)\n",
    "class advancecalculator(calculator):\n",
    "    def mul(self,n1,n2):\n",
    "        s3=n1*n2\n",
    "        print(\"mul=\",s3)\n",
    "    def div(self,n1,n2):\n",
    "        s4=n1/n2\n",
    "        print(\"div=\",s4)\n",
    "a=advancecalculator()\n",
    "a.mul(n1,n2)\n",
    "a.div(n1,n2)\n",
    "a.add(n1,n2)\n",
    "a.sub(n1,n2)\n",
    "\n"
   ]
  },
  {
   "cell_type": "code",
   "execution_count": 1,
   "id": "fa461c43-2d58-4dcd-a487-3891c04a34b7",
   "metadata": {},
   "outputs": [
    {
     "name": "stdin",
     "output_type": "stream",
     "text": [
      "enter no of rooms 2\n",
      "enter no of days 3\n",
      "enter name divya\n",
      "enter address jkd\n",
      "enter mobile number 3476\n"
     ]
    },
    {
     "ename": "TypeError",
     "evalue": "Cannot create a consistent method resolution\norder (MRO) for bases normalroom, acroom, suitroom",
     "output_type": "error",
     "traceback": [
      "\u001b[1;31m---------------------------------------------------------------------------\u001b[0m",
      "\u001b[1;31mTypeError\u001b[0m                                 Traceback (most recent call last)",
      "Cell \u001b[1;32mIn[1], line 54\u001b[0m\n\u001b[0;32m     51\u001b[0m             total\u001b[38;5;241m=\u001b[39mnorooms\u001b[38;5;241m*\u001b[39mnodays\u001b[38;5;241m*\u001b[39mrent\n\u001b[0;32m     52\u001b[0m         \u001b[38;5;28mprint\u001b[39m(\u001b[38;5;124m\"\u001b[39m\u001b[38;5;124mroom rent is=\u001b[39m\u001b[38;5;124m\"\u001b[39m,total)\n\u001b[1;32m---> 54\u001b[0m \u001b[38;5;28;01mclass\u001b[39;00m \u001b[38;5;21;01mhotel\u001b[39;00m(normalroom,acroom,suitroom):\n\u001b[0;32m     55\u001b[0m     \u001b[38;5;28;01mdef\u001b[39;00m \u001b[38;5;21mdisplay\u001b[39m(\u001b[38;5;28mself\u001b[39m,name,add,mob):\n\u001b[0;32m     56\u001b[0m         \u001b[38;5;28mself\u001b[39m\u001b[38;5;241m.\u001b[39mname\u001b[38;5;241m=\u001b[39mname\n",
      "\u001b[1;31mTypeError\u001b[0m: Cannot create a consistent method resolution\norder (MRO) for bases normalroom, acroom, suitroom"
     ]
    }
   ],
   "source": [
    "norooms=int(input(\"enter no of rooms\"))\n",
    "nodays=int(input(\"enter no of days\"))\n",
    "name=input(\"enter name\")\n",
    "add=input(\"enter address\")\n",
    "mob=int(input(\"enter mobile number\"))\n",
    "\n",
    "\n",
    "class normalroom:\n",
    "    def calculate(self,norooms,nodays):\n",
    "        self.norooms=norooms\n",
    "        self.nodays=nodays\n",
    "        if nodays==1:\n",
    "            rent=300\n",
    "            total=norooms*nodays*rent\n",
    "            #print(\"room rent is=\",total)\n",
    "        elif nodays>=1 and nodays<=5:\n",
    "            rent=250\n",
    "            total=norooms*nodays*rent\n",
    "            #print(\"room rent is=\",total)\n",
    "        else:\n",
    "            rent=200\n",
    "            total=norooms*nodays*rent\n",
    "        print(\"room rent is=\",total)\n",
    "class acroom(normalroom):\n",
    "    def accalculate(self,norooms,nodays):\n",
    "        if nodays==1:\n",
    "            rent=450\n",
    "            total=norooms*nodays*rent\n",
    "            #print(\"room rent is=\",total)\n",
    "        elif nodays>=1 and nodays<=5:\n",
    "            rent=300\n",
    "            total=norooms*nodays*rent\n",
    "            #print(\"room rent is=\",total)\n",
    "        else:\n",
    "            rent=250\n",
    "            total=norooms*nodays*rent\n",
    "        print(\"room rent is=\",total)\n",
    "        \n",
    "class suitroom(normalroom):\n",
    "    def suitcalculate(self,norooms,nodays):\n",
    "        if nodays==1:\n",
    "            rent=550\n",
    "            total=norooms*nodays*rent\n",
    "            #print(\"room rent is=\",total)\n",
    "        elif nodays>=1 and nodays<=5:\n",
    "            rent=500\n",
    "            total=norooms*nodays*rent\n",
    "            #print(\"room rent is=\",total)\n",
    "        else:\n",
    "            rent=450\n",
    "            total=norooms*nodays*rent\n",
    "        print(\"room rent is=\",total)\n",
    "        \n",
    "class hotel(normalroom,acroom,suitroom):\n",
    "    def display(self,name,add,mob):\n",
    "        self.name=name\n",
    "        self.add=add\n",
    "        self.mob=mob\n",
    "        print(\"name=\",name)\n",
    "        print(\"address=\",add)\n",
    "        print(\"mobilenumber=\",mob)\n",
    "n=normalroom()\n",
    "n.calculate(norooms,nodays)\n",
    "a=acroom()\n",
    "a.accalculate(norooms,nodays)\n",
    "s=suitroom()\n",
    "s.suitcalculate(norooms,nodays)\n",
    "h=hotel()\n",
    "h.display(name,add,mob)\n",
    "if choice==1:\n",
    "    h.display()\n",
    "    h.calculate(norooms,nodays)\n",
    "elif choice==2:\n",
    "    h.display()\n",
    "    h.accalculate(norooms,nodays)\n",
    "elif choice==3:\n",
    "    h.display()\n",
    "    h.suitcalculate(norooms,nodays)\n",
    "else:\n",
    "    print(\"invalid choice\")\n",
    "    \n",
    "    \n",
    "    \n",
    "\n",
    "        \n",
    "        \n",
    "        \n",
    "\n",
    "        "
   ]
  },
  {
   "cell_type": "code",
   "execution_count": 21,
   "id": "126c519e-5680-40a1-b47b-4abca338ff7d",
   "metadata": {},
   "outputs": [
    {
     "name": "stdin",
     "output_type": "stream",
     "text": [
      "enter name dii\n",
      "enter id 32\n",
      "enter days 2\n",
      "enter hours 24\n"
     ]
    },
    {
     "name": "stdout",
     "output_type": "stream",
     "text": [
      "name= dii\n",
      "id= 32\n",
      "days= 2\n",
      "hours= 24\n"
     ]
    },
    {
     "ename": "AttributeError",
     "evalue": "'temstaff' object has no attribute 'salearn'",
     "output_type": "error",
     "traceback": [
      "\u001b[1;31m---------------------------------------------------------------------------\u001b[0m",
      "\u001b[1;31mAttributeError\u001b[0m                            Traceback (most recent call last)",
      "Cell \u001b[1;32mIn[21], line 39\u001b[0m\n\u001b[0;32m     37\u001b[0m t\u001b[38;5;241m=\u001b[39mtemstaff()\n\u001b[0;32m     38\u001b[0m t\u001b[38;5;241m.\u001b[39msalary(days,hour)\n\u001b[1;32m---> 39\u001b[0m t\u001b[38;5;241m.\u001b[39mdisplay(days,hour)\n",
      "Cell \u001b[1;32mIn[21], line 32\u001b[0m, in \u001b[0;36mtemstaff.display\u001b[1;34m(self, days, hour)\u001b[0m\n\u001b[0;32m     30\u001b[0m \u001b[38;5;28mprint\u001b[39m(\u001b[38;5;124m\"\u001b[39m\u001b[38;5;124mdays=\u001b[39m\u001b[38;5;124m\"\u001b[39m,days)\n\u001b[0;32m     31\u001b[0m \u001b[38;5;28mprint\u001b[39m(\u001b[38;5;124m\"\u001b[39m\u001b[38;5;124mhours=\u001b[39m\u001b[38;5;124m\"\u001b[39m,hour)\n\u001b[1;32m---> 32\u001b[0m \u001b[38;5;28mprint\u001b[39m(\u001b[38;5;124m\"\u001b[39m\u001b[38;5;124msalary earned=\u001b[39m\u001b[38;5;124m\"\u001b[39m,\u001b[38;5;28mself\u001b[39m\u001b[38;5;241m.\u001b[39msalearn)\n",
      "\u001b[1;31mAttributeError\u001b[0m: 'temstaff' object has no attribute 'salearn'"
     ]
    }
   ],
   "source": [
    "name=input(\"enter name\")\n",
    "id=int(input(\"enter id\"))\n",
    "days=int(input(\"enter days\"))\n",
    "hour=int(input(\"enter hours\"))\n",
    "\n",
    "\n",
    "class person():\n",
    "    def __init__(self):\n",
    "        super().__init__()\n",
    "        self.name=name\n",
    "    def display(self,name):\n",
    "        print(\"name=\",self.name)\n",
    "class staff(person):\n",
    "    def __init__(self):\n",
    "        super().__init__()\n",
    "        self.id=id\n",
    "    def display(self,id):\n",
    "        print(\"id=\",self.id)\n",
    "class temstaff(staff):\n",
    "    def __init__(self):\n",
    "        \n",
    "        self.days=days\n",
    "        self.hour=hour\n",
    "    \n",
    "    def salary(self,days,hour):\n",
    "        salearn=days*hour*150\n",
    "        return salearn\n",
    "    def display(self,days,hour):\n",
    "        #salearn=days*hour*150\n",
    "        print(\"days=\",days)\n",
    "        print(\"hours=\",hour)\n",
    "        print(\"salary earned=\",self.salearn)\n",
    "p=person()\n",
    "p.display(name)\n",
    "s=staff()\n",
    "s.display(id)\n",
    "t=temstaff()\n",
    "t.salary(days,hour)\n",
    "t.display(days,hour)\n",
    "\n",
    "        \n",
    "    \n",
    "    \n",
    "    \n",
    "    "
   ]
  },
  {
   "cell_type": "code",
   "execution_count": 1,
   "id": "901e1820-8fdc-4edf-92b0-ff560ec6c30d",
   "metadata": {},
   "outputs": [
    {
     "name": "stdout",
     "output_type": "stream",
     "text": [
      "generic sound\n",
      "bow bow\n",
      "meow meow\n"
     ]
    }
   ],
   "source": [
    "class animal:\n",
    "    def sound(self):\n",
    "        print(\"generic sound\")\n",
    "class dog(animal):\n",
    "    def sound(self):\n",
    "        print(\"bow bow\")\n",
    "class cat(animal):\n",
    "    def sound(self):\n",
    "        print(\"meow meow\")\n",
    "c=cat()\n",
    "animal.sound(c)\n",
    "dog.sound(c)\n",
    "cat.sound(c)"
   ]
  },
  {
   "cell_type": "code",
   "execution_count": 11,
   "id": "222aadf6-25ff-43a0-9886-26f01e30a9f2",
   "metadata": {},
   "outputs": [
    {
     "ename": "TypeError",
     "evalue": "unsupported operand type(s) for +: 'add' and 'int'",
     "output_type": "error",
     "traceback": [
      "\u001b[1;31m---------------------------------------------------------------------------\u001b[0m",
      "\u001b[1;31mTypeError\u001b[0m                                 Traceback (most recent call last)",
      "Cell \u001b[1;32mIn[11], line 8\u001b[0m\n\u001b[0;32m      6\u001b[0m     \u001b[38;5;28mprint\u001b[39m(res\u001b[38;5;241m.\u001b[39madd1(\u001b[38;5;241m5\u001b[39m))\n\u001b[0;32m      7\u001b[0m     \u001b[38;5;28mprint\u001b[39m(res\u001b[38;5;241m.\u001b[39madd1(\u001b[38;5;241m5\u001b[39m,\u001b[38;5;241m10\u001b[39m))\n\u001b[1;32m----> 8\u001b[0m main()\n",
      "Cell \u001b[1;32mIn[11], line 6\u001b[0m, in \u001b[0;36mmain\u001b[1;34m()\u001b[0m\n\u001b[0;32m      4\u001b[0m \u001b[38;5;28;01mdef\u001b[39;00m \u001b[38;5;21mmain\u001b[39m():\n\u001b[0;32m      5\u001b[0m     res\u001b[38;5;241m=\u001b[39madd()\n\u001b[1;32m----> 6\u001b[0m     \u001b[38;5;28mprint\u001b[39m(res\u001b[38;5;241m.\u001b[39madd1(\u001b[38;5;241m5\u001b[39m))\n\u001b[0;32m      7\u001b[0m     \u001b[38;5;28mprint\u001b[39m(res\u001b[38;5;241m.\u001b[39madd1(\u001b[38;5;241m5\u001b[39m,\u001b[38;5;241m10\u001b[39m))\n",
      "Cell \u001b[1;32mIn[11], line 3\u001b[0m, in \u001b[0;36madd.add1\u001b[1;34m(a, b, c)\u001b[0m\n\u001b[0;32m      2\u001b[0m \u001b[38;5;28;01mdef\u001b[39;00m \u001b[38;5;21madd1\u001b[39m(a,b\u001b[38;5;241m=\u001b[39m\u001b[38;5;241m0\u001b[39m,c\u001b[38;5;241m=\u001b[39m\u001b[38;5;241m0\u001b[39m):\n\u001b[1;32m----> 3\u001b[0m     \u001b[38;5;28;01mreturn\u001b[39;00m a\u001b[38;5;241m+\u001b[39mb\u001b[38;5;241m+\u001b[39mc\n",
      "\u001b[1;31mTypeError\u001b[0m: unsupported operand type(s) for +: 'add' and 'int'"
     ]
    }
   ],
   "source": [
    "class add:\n",
    "    def add1(a,b=0,c=0):\n",
    "        return a+b+c\n",
    "def main():\n",
    "    res=add()\n",
    "    print(res.add1(5))\n",
    "    print(res.add1(5,10))\n",
    "main()\n",
    "\n",
    "        "
   ]
  },
  {
   "cell_type": "code",
   "execution_count": 19,
   "id": "2a205d52-eeee-4052-a890-19a77d8d40ab",
   "metadata": {},
   "outputs": [
    {
     "name": "stdin",
     "output_type": "stream",
     "text": [
      "Enter a number:  10\n"
     ]
    },
    {
     "ename": "TypeError",
     "evalue": "OddSumCalculator() takes no arguments",
     "output_type": "error",
     "traceback": [
      "\u001b[1;31m---------------------------------------------------------------------------\u001b[0m",
      "\u001b[1;31mTypeError\u001b[0m                                 Traceback (most recent call last)",
      "Cell \u001b[1;32mIn[19], line 14\u001b[0m\n\u001b[0;32m     12\u001b[0m \u001b[38;5;66;03m# Input from the user\u001b[39;00m\n\u001b[0;32m     13\u001b[0m n \u001b[38;5;241m=\u001b[39m \u001b[38;5;28mint\u001b[39m(\u001b[38;5;28minput\u001b[39m(\u001b[38;5;124m\"\u001b[39m\u001b[38;5;124mEnter a number: \u001b[39m\u001b[38;5;124m\"\u001b[39m))\n\u001b[1;32m---> 14\u001b[0m calculator \u001b[38;5;241m=\u001b[39m OddSumCalculator(n)\n\u001b[0;32m     15\u001b[0m res\u001b[38;5;241m=\u001b[39mcalculator\u001b[38;5;241m.\u001b[39mcalculate_sum()\n\u001b[0;32m     16\u001b[0m \u001b[38;5;28mprint\u001b[39m(\u001b[38;5;124m\"\u001b[39m\u001b[38;5;124mThe sum of odd numbers between 1 and \u001b[39m\u001b[38;5;132;01m{n}\u001b[39;00m\u001b[38;5;124m is: \u001b[39m\u001b[38;5;124m\"\u001b[39m,res)\n",
      "\u001b[1;31mTypeError\u001b[0m: OddSumCalculator() takes no arguments"
     ]
    }
   ],
   "source": [
    "class OddSumCalculator:\n",
    "    def _init_(self, n):\n",
    "        self.n = n\n",
    "\n",
    "    def calculate_sum(self):\n",
    "        odd_sum = 0\n",
    "        for num in range(1, self.n + 1):\n",
    "            if num % 2 != 0:\n",
    "                odd_sum += num\n",
    "        return odd_sum\n",
    "\n",
    "# Input from the user\n",
    "n = int(input(\"Enter a number: \"))\n",
    "calculator = OddSumCalculator(n)\n",
    "res=calculator.calculate_sum()\n",
    "print(\"The sum of odd numbers between 1 and {n} is: \",res)"
   ]
  },
  {
   "cell_type": "code",
   "execution_count": null,
   "id": "fd31d537-6e45-4276-a2c5-577c55751e5c",
   "metadata": {},
   "outputs": [],
   "source": [
    "class bank_account:\n",
    "df init(self,owner,bal=0):\n",
    "__bal\n",
    "get_bal(self): #public\n",
    "\n",
    "df deposit(self,amt):\n",
    "if amt>0:\n",
    "    self.__bal+=amt\n",
    "    print(bal)\n",
    "else:\n",
    "    perint(\"deposit amt should be greater than zero\")\n",
    "\n",
    "withdraw(self,amt):\n",
    "if 0<amt<=self.__bal:\n",
    "    self.__bal-=amt\n",
    "    print(bal)\n",
    "else:\n",
    "    print(\"insufficient amt\")\n",
    "\n",
    "account=bank_account(\"samruddhi\",5000)\n",
    "account.deposit(5000)\n",
    "account.withdraw(500)\n"
   ]
  }
 ],
 "metadata": {
  "kernelspec": {
   "display_name": "Python 3 (ipykernel)",
   "language": "python",
   "name": "python3"
  },
  "language_info": {
   "codemirror_mode": {
    "name": "ipython",
    "version": 3
   },
   "file_extension": ".py",
   "mimetype": "text/x-python",
   "name": "python",
   "nbconvert_exporter": "python",
   "pygments_lexer": "ipython3",
   "version": "3.12.4"
  }
 },
 "nbformat": 4,
 "nbformat_minor": 5
}
