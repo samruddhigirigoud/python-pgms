{
 "cells": [
  {
   "cell_type": "code",
   "execution_count": null,
   "id": "77b9157c-a9ae-49f2-9459-b37672ca3881",
   "metadata": {},
   "outputs": [],
   "source": [
    "a=int(input())\n",
    "b=int(input())\n",
    "def add():\n",
    "    s=a+b\n",
    "    print(s)\n",
    "add()\n",
    "\n",
    "\n",
    "    \n"
   ]
  },
  {
   "cell_type": "code",
   "execution_count": 9,
   "id": "83750df2-14ab-46eb-895d-d01df3dfcc85",
   "metadata": {},
   "outputs": [
    {
     "name": "stdin",
     "output_type": "stream",
     "text": [
      " 4\n"
     ]
    },
    {
     "ename": "UnboundLocalError",
     "evalue": "cannot access local variable 'fact' where it is not associated with a value",
     "output_type": "error",
     "traceback": [
      "\u001b[1;31m---------------------------------------------------------------------------\u001b[0m",
      "\u001b[1;31mUnboundLocalError\u001b[0m                         Traceback (most recent call last)",
      "Cell \u001b[1;32mIn[9], line 6\u001b[0m\n\u001b[0;32m      4\u001b[0m     fact\u001b[38;5;241m=\u001b[39mfact\u001b[38;5;241m*\u001b[39mi\n\u001b[0;32m      5\u001b[0m     \u001b[38;5;28mprint\u001b[39m(fact)\n\u001b[1;32m----> 6\u001b[0m factorial()\n",
      "Cell \u001b[1;32mIn[9], line 4\u001b[0m, in \u001b[0;36mfactorial\u001b[1;34m()\u001b[0m\n\u001b[0;32m      3\u001b[0m \u001b[38;5;28;01mdef\u001b[39;00m \u001b[38;5;21mfactorial\u001b[39m():\n\u001b[1;32m----> 4\u001b[0m     fact\u001b[38;5;241m=\u001b[39mfact\u001b[38;5;241m*\u001b[39mi\n\u001b[0;32m      5\u001b[0m     \u001b[38;5;28mprint\u001b[39m(fact)\n",
      "\u001b[1;31mUnboundLocalError\u001b[0m: cannot access local variable 'fact' where it is not associated with a value"
     ]
    }
   ],
   "source": [
    "n=int(input())\n",
    "fact=1\n",
    "def factorial():\n",
    "    for i in range(1,n):\n",
    "        fact=fact*i\n",
    "        print(fact)\n",
    "factorial()\n"
   ]
  },
  {
   "cell_type": "code",
   "execution_count": 13,
   "id": "79f9a405-7e09-45ed-afa8-adab919500d6",
   "metadata": {},
   "outputs": [
    {
     "name": "stdin",
     "output_type": "stream",
     "text": [
      " 4\n",
      " 4\n"
     ]
    },
    {
     "data": {
      "text/plain": [
       "8"
      ]
     },
     "execution_count": 13,
     "metadata": {},
     "output_type": "execute_result"
    }
   ],
   "source": [
    "a=int(input())\n",
    "b=int(input())\n",
    "\n",
    "def sum(a,b):\n",
    "    s=a+b\n",
    "    return s\n",
    "sum(a,b)\n",
    "\n"
   ]
  },
  {
   "cell_type": "code",
   "execution_count": 20,
   "id": "88d8f289-019e-4b86-98cc-ecb1bba217aa",
   "metadata": {},
   "outputs": [
    {
     "ename": "SyntaxError",
     "evalue": "invalid syntax (79024881.py, line 1)",
     "output_type": "error",
     "traceback": [
      "\u001b[1;36m  Cell \u001b[1;32mIn[20], line 1\u001b[1;36m\u001b[0m\n\u001b[1;33m    lamda a,b:a+b;\u001b[0m\n\u001b[1;37m          ^\u001b[0m\n\u001b[1;31mSyntaxError\u001b[0m\u001b[1;31m:\u001b[0m invalid syntax\n"
     ]
    }
   ],
   "source": [
    "lamda a,b:a+b;"
   ]
  },
  {
   "cell_type": "code",
   "execution_count": 38,
   "id": "66bc3283-748f-4111-b221-6c9b778b652e",
   "metadata": {},
   "outputs": [
    {
     "name": "stdin",
     "output_type": "stream",
     "text": [
      " 3\n",
      " 3\n"
     ]
    },
    {
     "name": "stdout",
     "output_type": "stream",
     "text": [
      "6\n"
     ]
    }
   ],
   "source": [
    "s=lambda a,b:a+b\n",
    "a=int(input())\n",
    "b=int(input())\n",
    "print(s(a,b))"
   ]
  },
  {
   "cell_type": "code",
   "execution_count": null,
   "id": "4b6275d8-de69-4796-bc25-ebf6c25eb796",
   "metadata": {},
   "outputs": [],
   "source": [
    "a=int(input())\n",
    "b=int(input())\n",
    "while(a<=b):\n",
    "    pass\n",
    "    for i in range(1,b+1):\n",
    "        sum=a+b\n",
    "    print(sum)\n"
   ]
  },
  {
   "cell_type": "code",
   "execution_count": null,
   "id": "e6e6e37f-0ffc-48f8-acca-5ea625a58701",
   "metadata": {},
   "outputs": [],
   "source": [
    "t=0\n",
    "def sum(a,b):\n",
    "    t=a+b\n",
    "    print(inside the local total:\",t)\n",
    "    return t\n",
    "sum(10,20)\n",
    "print(\"outside the global:\",t)\n"
   ]
  },
  {
   "cell_type": "code",
   "execution_count": null,
   "id": "4d050192-a295-4eab-b77d-f2899cca1bbb",
   "metadata": {},
   "outputs": [],
   "source": []
  }
 ],
 "metadata": {
  "kernelspec": {
   "display_name": "Python 3 (ipykernel)",
   "language": "python",
   "name": "python3"
  },
  "language_info": {
   "codemirror_mode": {
    "name": "ipython",
    "version": 3
   },
   "file_extension": ".py",
   "mimetype": "text/x-python",
   "name": "python",
   "nbconvert_exporter": "python",
   "pygments_lexer": "ipython3",
   "version": "3.12.4"
  }
 },
 "nbformat": 4,
 "nbformat_minor": 5
}
