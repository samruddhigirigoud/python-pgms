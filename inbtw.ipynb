{
 "cells": [
  {
   "cell_type": "code",
   "execution_count": 3,
   "id": "85254d0d-e18c-40f9-af85-0fa30ddbd0e1",
   "metadata": {},
   "outputs": [
    {
     "name": "stdin",
     "output_type": "stream",
     "text": [
      " divya\n",
      " divya\n"
     ]
    },
    {
     "name": "stdout",
     "output_type": "stream",
     "text": [
      "string are same\n"
     ]
    }
   ],
   "source": [
    "a=str(input())\n",
    "b=str(input())\n",
    "if(a==b):\n",
    "    print(\"same\")\n",
    "else:\n",
    "    print(\"not same\")\n",
    "    \n"
   ]
  },
  {
   "cell_type": "code",
   "execution_count": 7,
   "id": "eadc3729-1148-4fb8-afce-60f648f52817",
   "metadata": {},
   "outputs": [
    {
     "name": "stdin",
     "output_type": "stream",
     "text": [
      " 15\n"
     ]
    },
    {
     "name": "stdout",
     "output_type": "stream",
     "text": [
      "no\n"
     ]
    }
   ],
   "source": [
    "a=int(input())\n",
    "if(a%7==0):\n",
    "    print(\"multiple of 7\")\n",
    "else:\n",
    "    print(\"no\")\n",
    "\n"
   ]
  },
  {
   "cell_type": "code",
   "execution_count": 77,
   "id": "3160feaa-e99e-4d42-9908-b56d8a2cd5e4",
   "metadata": {},
   "outputs": [
    {
     "name": "stdin",
     "output_type": "stream",
     "text": [
      " 5\n",
      " 4\n",
      " 2\n"
     ]
    },
    {
     "name": "stdout",
     "output_type": "stream",
     "text": [
      "no\n"
     ]
    }
   ],
   "source": [
    "a=int(input())\n",
    "b=int(input())\n",
    "c=int(input())\n",
    "if(a>b and a<c) and (b<a and b<c):\n",
    "    print(\"number is in betwwen\")\n",
    "else:\n",
    "    print(\"no\")\n",
    "    "
   ]
  },
  {
   "cell_type": "code",
   "execution_count": null,
   "id": "b2b82431-f240-4d79-83a1-44c8b32c0d3a",
   "metadata": {},
   "outputs": [],
   "source": []
  }
 ],
 "metadata": {
  "kernelspec": {
   "display_name": "Python 3 (ipykernel)",
   "language": "python",
   "name": "python3"
  },
  "language_info": {
   "codemirror_mode": {
    "name": "ipython",
    "version": 3
   },
   "file_extension": ".py",
   "mimetype": "text/x-python",
   "name": "python",
   "nbconvert_exporter": "python",
   "pygments_lexer": "ipython3",
   "version": "3.12.4"
  }
 },
 "nbformat": 4,
 "nbformat_minor": 5
}
